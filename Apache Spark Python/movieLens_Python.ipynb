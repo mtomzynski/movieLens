{
 "cells": [
  {
   "cell_type": "markdown",
   "metadata": {},
   "source": [
    "## Import required libraries and setup dataframes"
   ]
  },
  {
   "cell_type": "code",
   "execution_count": 1,
   "metadata": {},
   "outputs": [
    {
     "data": {
      "application/vnd.jupyter.widget-view+json": {
       "model_id": "e600dda8f22242d0ad79d559cd8347fc",
       "version_major": 2,
       "version_minor": 0
      },
      "text/plain": [
       "VBox()"
      ]
     },
     "metadata": {},
     "output_type": "display_data"
    },
    {
     "name": "stdout",
     "output_type": "stream",
     "text": [
      "Starting Spark application\n"
     ]
    },
    {
     "data": {
      "text/html": [
       "<table>\n",
       "<tr><th>ID</th><th>YARN Application ID</th><th>Kind</th><th>State</th><th>Spark UI</th><th>Driver log</th><th>Current session?</th></tr><tr><td>4</td><td>application_1599465122176_0005</td><td>pyspark</td><td>idle</td><td><a target=\"_blank\" href=\"http://ip-172-31-45-67.ec2.internal:20888/proxy/application_1599465122176_0005/\">Link</a></td><td><a target=\"_blank\" href=\"http://ip-172-31-44-146.ec2.internal:8042/node/containerlogs/container_1599465122176_0005_01_000001/livy\">Link</a></td><td>✔</td></tr></table>"
      ],
      "text/plain": [
       "<IPython.core.display.HTML object>"
      ]
     },
     "metadata": {},
     "output_type": "display_data"
    },
    {
     "data": {
      "application/vnd.jupyter.widget-view+json": {
       "model_id": "",
       "version_major": 2,
       "version_minor": 0
      },
      "text/plain": [
       "FloatProgress(value=0.0, bar_style='info', description='Progress:', layout=Layout(height='25px', width='50%'),…"
      ]
     },
     "metadata": {},
     "output_type": "display_data"
    },
    {
     "name": "stdout",
     "output_type": "stream",
     "text": [
      "SparkSession available as 'spark'.\n"
     ]
    },
    {
     "data": {
      "application/vnd.jupyter.widget-view+json": {
       "model_id": "",
       "version_major": 2,
       "version_minor": 0
      },
      "text/plain": [
       "FloatProgress(value=0.0, bar_style='info', description='Progress:', layout=Layout(height='25px', width='50%'),…"
      ]
     },
     "metadata": {},
     "output_type": "display_data"
    },
    {
     "name": "stdout",
     "output_type": "stream",
     "text": [
      "Collecting s3fs\n",
      "  Using cached https://files.pythonhosted.org/packages/92/15/792d40668bd63acc8f816188ed3c3a27f393717122c8bed5fe8f550616da/s3fs-0.5.0-py3-none-any.whl\n",
      "Collecting aiobotocore>=1.0.1 (from s3fs)\n",
      "  Using cached https://files.pythonhosted.org/packages/a8/a6/3d032b308fa546a5223daf0ae5e414af3ddea33678fff2834d99bb0dd909/aiobotocore-1.1.1-py3-none-any.whl\n",
      "Collecting fsspec>=0.8.0 (from s3fs)\n",
      "  Using cached https://files.pythonhosted.org/packages/d3/66/974e01194980d9780cc09724315111f9cccba26b4351552fdb4d97eb842e/fsspec-0.8.0-py3-none-any.whl\n",
      "Collecting aioitertools>=0.5.1 (from aiobotocore>=1.0.1->s3fs)\n",
      "  Using cached https://files.pythonhosted.org/packages/83/42/90df27c516ce54fa26964bc4a632ecaf352c7e99574b515255e48b4a7cc7/aioitertools-0.7.0-py3-none-any.whl\n",
      "Collecting botocore<1.17.45,>=1.17.44 (from aiobotocore>=1.0.1->s3fs)\n",
      "  Using cached https://files.pythonhosted.org/packages/1e/6a/b6490235c01c941a24a86235e2a641e9505cf0ce4b4968d4987573d92bec/botocore-1.17.44-py2.py3-none-any.whl\n",
      "Collecting wrapt>=1.10.10 (from aiobotocore>=1.0.1->s3fs)\n",
      "Collecting aiohttp>=3.3.1 (from aiobotocore>=1.0.1->s3fs)\n",
      "  Using cached https://files.pythonhosted.org/packages/e3/71/6000eacb8923d9fd07aa8784a8fab4f022ae697f3c2456d7dca75c743dd6/aiohttp-3.6.2-cp37-cp37m-manylinux1_x86_64.whl\n",
      "Collecting typing_extensions>=3.7 (from aioitertools>=0.5.1->aiobotocore>=1.0.1->s3fs)\n",
      "  Using cached https://files.pythonhosted.org/packages/60/7a/e881b5abb54db0e6e671ab088d079c57ce54e8a01a3ca443f561ccadb37e/typing_extensions-3.7.4.3-py3-none-any.whl\n",
      "Collecting urllib3<1.26,>=1.20; python_version != \"3.4\" (from botocore<1.17.45,>=1.17.44->aiobotocore>=1.0.1->s3fs)\n",
      "  Using cached https://files.pythonhosted.org/packages/9f/f0/a391d1463ebb1b233795cabfc0ef38d3db4442339de68f847026199e69d7/urllib3-1.25.10-py2.py3-none-any.whl\n",
      "Collecting python-dateutil<3.0.0,>=2.1 (from botocore<1.17.45,>=1.17.44->aiobotocore>=1.0.1->s3fs)\n",
      "  Using cached https://files.pythonhosted.org/packages/d4/70/d60450c3dd48ef87586924207ae8907090de0b306af2bce5d134d78615cb/python_dateutil-2.8.1-py2.py3-none-any.whl\n",
      "Requirement already satisfied: jmespath<1.0.0,>=0.7.1 in /usr/local/lib/python3.7/site-packages (from botocore<1.17.45,>=1.17.44->aiobotocore>=1.0.1->s3fs)\n",
      "Collecting docutils<0.16,>=0.10 (from botocore<1.17.45,>=1.17.44->aiobotocore>=1.0.1->s3fs)\n",
      "  Using cached https://files.pythonhosted.org/packages/22/cd/a6aa959dca619918ccb55023b4cb151949c64d4d5d55b3f4ffd7eee0c6e8/docutils-0.15.2-py3-none-any.whl\n",
      "Collecting yarl<2.0,>=1.0 (from aiohttp>=3.3.1->aiobotocore>=1.0.1->s3fs)\n",
      "  Using cached https://files.pythonhosted.org/packages/5b/1c/556b99a3a11916e05cd2128367f507dc330fc30ed1f5991e1ffe4dabf635/yarl-1.5.1-cp37-cp37m-manylinux1_x86_64.whl\n",
      "Collecting chardet<4.0,>=2.0 (from aiohttp>=3.3.1->aiobotocore>=1.0.1->s3fs)\n",
      "  Using cached https://files.pythonhosted.org/packages/bc/a9/01ffebfb562e4274b6487b4bb1ddec7ca55ec7510b22e4c51f14098443b8/chardet-3.0.4-py2.py3-none-any.whl\n",
      "Collecting async-timeout<4.0,>=3.0 (from aiohttp>=3.3.1->aiobotocore>=1.0.1->s3fs)\n",
      "  Using cached https://files.pythonhosted.org/packages/e1/1e/5a4441be21b0726c4464f3f23c8b19628372f606755a9d2e46c187e65ec4/async_timeout-3.0.1-py3-none-any.whl\n",
      "Collecting attrs>=17.3.0 (from aiohttp>=3.3.1->aiobotocore>=1.0.1->s3fs)\n",
      "  Using cached https://files.pythonhosted.org/packages/14/df/479736ae1ef59842f512548bacefad1abed705e400212acba43f9b0fa556/attrs-20.2.0-py2.py3-none-any.whl\n",
      "Collecting multidict<5.0,>=4.5 (from aiohttp>=3.3.1->aiobotocore>=1.0.1->s3fs)\n",
      "  Using cached https://files.pythonhosted.org/packages/85/b8/a9fe777dab4c6aa067b516a34fe995213707e490ea1e72f823949a830a6a/multidict-4.7.6-cp37-cp37m-manylinux1_x86_64.whl\n",
      "Requirement already satisfied: six>=1.5 in /usr/local/lib/python3.7/site-packages (from python-dateutil<3.0.0,>=2.1->botocore<1.17.45,>=1.17.44->aiobotocore>=1.0.1->s3fs)\n",
      "Collecting idna>=2.0 (from yarl<2.0,>=1.0->aiohttp>=3.3.1->aiobotocore>=1.0.1->s3fs)\n",
      "  Using cached https://files.pythonhosted.org/packages/a2/38/928ddce2273eaa564f6f50de919327bf3a00f091b5baba8dfa9460f3a8a8/idna-2.10-py2.py3-none-any.whl\n",
      "Installing collected packages: typing-extensions, aioitertools, urllib3, python-dateutil, docutils, botocore, wrapt, idna, multidict, yarl, chardet, async-timeout, attrs, aiohttp, aiobotocore, fsspec, s3fs\n",
      "Successfully installed aiobotocore-1.1.1 aiohttp-3.6.2 aioitertools-0.7.0 async-timeout-3.0.1 attrs-20.2.0 botocore-1.17.44 chardet-3.0.4 docutils-0.15.2 fsspec-0.8.0 idna-2.10 multidict-4.7.6 python-dateutil-2.8.1 s3fs-0.5.0 typing-extensions-3.7.4.3 urllib3-1.25.10 wrapt-1.12.1 yarl-1.5.1\n",
      "\n",
      "Collecting pandas\n",
      "  Using cached https://files.pythonhosted.org/packages/61/ed/10112535645ad7afd26c3b9defd20a32d9e42340b19c4f73ff26ccad06ee/pandas-1.1.1-cp37-cp37m-manylinux1_x86_64.whl\n",
      "Requirement already satisfied: numpy>=1.15.4 in /usr/local/lib64/python3.7/site-packages (from pandas)\n",
      "Requirement already satisfied: pytz>=2017.2 in /usr/local/lib/python3.7/site-packages (from pandas)\n",
      "Requirement already satisfied: python-dateutil>=2.7.3 in /mnt/tmp/1599467563083-0/lib/python3.7/site-packages (from pandas)\n",
      "Requirement already satisfied: six>=1.5 in /usr/local/lib/python3.7/site-packages (from python-dateutil>=2.7.3->pandas)\n",
      "Installing collected packages: pandas\n",
      "Successfully installed pandas-1.1.1"
     ]
    }
   ],
   "source": [
    "sc.install_pypi_package(\"s3fs\")\n",
    "sc.install_pypi_package(\"pandas\")\n",
    "import pandas as pd\n",
    "import numpy as np\n",
    "import warnings\n",
    "from s3fs import S3FileSystem\n",
    "\n",
    "# Setup max column number to 100 to avoid truncating movieLens dataframe.\n",
    "# pd.set_option('print.max_columns', None)\n",
    "# pd.set_option('print.max_rows', 10000)\n",
    "# pd.set_option('print.max_colwidth', None)\n",
    "\n",
    "warnings.simplefilter('ignore', category = FutureWarning)"
   ]
  },
  {
   "cell_type": "markdown",
   "metadata": {},
   "source": [
    "## Data clean-up"
   ]
  },
  {
   "cell_type": "markdown",
   "metadata": {},
   "source": [
    "Get original dataset _movies.dat_ from disc of local machine.\n",
    "\n",
    "Data downloaded from https://grouplens.org/datasets/movielens/25m/"
   ]
  },
  {
   "cell_type": "code",
   "execution_count": 2,
   "metadata": {},
   "outputs": [
    {
     "data": {
      "application/vnd.jupyter.widget-view+json": {
       "model_id": "0343706dfbf746969e4c255b84aa59b9",
       "version_major": 2,
       "version_minor": 0
      },
      "text/plain": [
       "VBox()"
      ]
     },
     "metadata": {},
     "output_type": "display_data"
    },
    {
     "data": {
      "application/vnd.jupyter.widget-view+json": {
       "model_id": "",
       "version_major": 2,
       "version_minor": 0
      },
      "text/plain": [
       "FloatProgress(value=0.0, bar_style='info', description='Progress:', layout=Layout(height='25px', width='50%'),…"
      ]
     },
     "metadata": {},
     "output_type": "display_data"
    }
   ],
   "source": [
    "movieLensDatasetBucketPath = \"s3://movielens-dataset-bucket/\""
   ]
  },
  {
   "cell_type": "code",
   "execution_count": 3,
   "metadata": {},
   "outputs": [
    {
     "data": {
      "application/vnd.jupyter.widget-view+json": {
       "model_id": "8648b32f18684257a86345b032431b5e",
       "version_major": 2,
       "version_minor": 0
      },
      "text/plain": [
       "VBox()"
      ]
     },
     "metadata": {},
     "output_type": "display_data"
    },
    {
     "data": {
      "application/vnd.jupyter.widget-view+json": {
       "model_id": "",
       "version_major": 2,
       "version_minor": 0
      },
      "text/plain": [
       "FloatProgress(value=0.0, bar_style='info', description='Progress:', layout=Layout(height='25px', width='50%'),…"
      ]
     },
     "metadata": {},
     "output_type": "display_data"
    },
    {
     "name": "stdout",
     "output_type": "stream",
     "text": [
      "                                 Title                                       Genres\n",
      "ID                                                                                 \n",
      "1                     Toy Story (1995)  Adventure|Animation|Children|Comedy|Fantasy\n",
      "2                       Jumanji (1995)                   Adventure|Children|Fantasy\n",
      "3              Grumpier Old Men (1995)                               Comedy|Romance\n",
      "4             Waiting to Exhale (1995)                         Comedy|Drama|Romance\n",
      "5   Father of the Bride Part II (1995)                                       Comedy\n",
      "6                          Heat (1995)                        Action|Crime|Thriller\n",
      "7                       Sabrina (1995)                               Comedy|Romance\n",
      "8                  Tom and Huck (1995)                           Adventure|Children\n",
      "9                  Sudden Death (1995)                                       Action\n",
      "10                    GoldenEye (1995)                    Action|Adventure|Thriller"
     ]
    }
   ],
   "source": [
    "movieLensDatasetPath = movieLensDatasetBucketPath + \"movies.dat\"\n",
    "df_movieLens = pd.read_table(movieLensDatasetPath, \\\n",
    "                             # in the original dataset, fields are separated by '@'\n",
    "                             sep = '@', \\\n",
    "                             # don't get original headers\n",
    "                             header = None, \\\n",
    "                             # name columns\n",
    "                             names = ['ID', 'Title', 'Genres'], \\\n",
    "                             # setup dataframe's index\n",
    "                             index_col = 'ID')\n",
    "\n",
    "# display first 10 rows of dataset\n",
    "df_movieLens.head(10)"
   ]
  },
  {
   "cell_type": "markdown",
   "metadata": {},
   "source": [
    "Dataset was loaded correctly to df_movieLens variable.\n",
    "\n",
    "As we can see, there are 3 colums:\n",
    "* ID - unique movie's identificator\n",
    "* Title - movie's title and relese year\n",
    "* Genres - movies's classification\n",
    "\n",
    "Columns: 'Title' and 'Genres' will be splitted for further analysis."
   ]
  },
  {
   "cell_type": "markdown",
   "metadata": {},
   "source": [
    "Get original dataset _ratings.dat_ from disc of local machine.\n",
    "\n",
    "Data downloaded from https://grouplens.org/datasets/movielens/25m/"
   ]
  },
  {
   "cell_type": "code",
   "execution_count": 4,
   "metadata": {},
   "outputs": [
    {
     "data": {
      "application/vnd.jupyter.widget-view+json": {
       "model_id": "bdf674d00d4141e6a19187480874d127",
       "version_major": 2,
       "version_minor": 0
      },
      "text/plain": [
       "VBox()"
      ]
     },
     "metadata": {},
     "output_type": "display_data"
    },
    {
     "data": {
      "application/vnd.jupyter.widget-view+json": {
       "model_id": "",
       "version_major": 2,
       "version_minor": 0
      },
      "text/plain": [
       "FloatProgress(value=0.0, bar_style='info', description='Progress:', layout=Layout(height='25px', width='50%'),…"
      ]
     },
     "metadata": {},
     "output_type": "display_data"
    },
    {
     "name": "stdout",
     "output_type": "stream",
     "text": [
      "    UserID  Rate  Timestamp\n",
      "ID                         \n",
      "1      122   5.0  838985046\n",
      "1      185   5.0  838983525\n",
      "1      231   5.0  838983392\n",
      "1      292   5.0  838983421\n",
      "1      316   5.0  838983392\n",
      "1      329   5.0  838983392\n",
      "1      355   5.0  838984474\n",
      "1      356   5.0  838983653\n",
      "1      362   5.0  838984885\n",
      "1      364   5.0  838983707"
     ]
    }
   ],
   "source": [
    "movieLensRatesDatasetPath = movieLensDatasetBucketPath + \"ratings.dat\"\n",
    "df_movieLensRates = pd.read_table(movieLensRatesDatasetPath, \\\n",
    "                             # in the original dataset, fields are separated by '@'\n",
    "                             sep = '@', \\\n",
    "                             \n",
    "                             # don't get original headers\n",
    "                             header = None, \\\n",
    "                             \n",
    "                             # name columns\n",
    "                             names = ['ID', 'UserID', 'Rate', 'Timestamp'], \\\n",
    "                             \n",
    "                             # setup dataframe's index\n",
    "                             index_col = 'ID')\n",
    "\n",
    "# display first 10 rows of dataset\n",
    "df_movieLensRates.head(10)"
   ]
  },
  {
   "cell_type": "markdown",
   "metadata": {},
   "source": [
    "Dataset was loaded correctly to _df_movieLensRates_ variable.\n",
    "\n",
    "As we can see, there are 4 colums:\n",
    "* ID - unique movie's identificator\n",
    "* UserID - unique user's identificator\n",
    "* Rate - ratings are made on a 5-star scale, with half-star increments (0.5 stars - 5.0 stars)\n",
    "* Timestamp - timestamps represent seconds since midnight Coordinated Universal Time (UTC) of January 1, 1970\n",
    "\n",
    "Column 'Timestamp' will be converted to date.\n",
    "\n",
    "Having loaded datasets, let's check whether there are empty values."
   ]
  },
  {
   "cell_type": "code",
   "execution_count": 5,
   "metadata": {},
   "outputs": [
    {
     "data": {
      "application/vnd.jupyter.widget-view+json": {
       "model_id": "3c618b03bd9f42a6b56d3df32902a43f",
       "version_major": 2,
       "version_minor": 0
      },
      "text/plain": [
       "VBox()"
      ]
     },
     "metadata": {},
     "output_type": "display_data"
    },
    {
     "data": {
      "application/vnd.jupyter.widget-view+json": {
       "model_id": "",
       "version_major": 2,
       "version_minor": 0
      },
      "text/plain": [
       "FloatProgress(value=0.0, bar_style='info', description='Progress:', layout=Layout(height='25px', width='50%'),…"
      ]
     },
     "metadata": {},
     "output_type": "display_data"
    },
    {
     "name": "stdout",
     "output_type": "stream",
     "text": [
      "Title     0\n",
      "Genres    0\n",
      "dtype: int64\n",
      "UserID       0\n",
      "Rate         0\n",
      "Timestamp    0\n",
      "dtype: int64"
     ]
    }
   ],
   "source": [
    "print(df_movieLens.isnull().sum())\n",
    "print(df_movieLensRates.isnull().sum())"
   ]
  },
  {
   "cell_type": "markdown",
   "metadata": {},
   "source": [
    "Fortunately there are no empty values. Datasets don't require filling or deleting values.\n",
    "\n",
    "Column Title contains both title and relese year of a movie. This should be splitted into two columns: 'Title', 'Year'."
   ]
  },
  {
   "cell_type": "code",
   "execution_count": 6,
   "metadata": {},
   "outputs": [
    {
     "data": {
      "application/vnd.jupyter.widget-view+json": {
       "model_id": "071b8f22994d494087031d0207807bad",
       "version_major": 2,
       "version_minor": 0
      },
      "text/plain": [
       "VBox()"
      ]
     },
     "metadata": {},
     "output_type": "display_data"
    },
    {
     "data": {
      "application/vnd.jupyter.widget-view+json": {
       "model_id": "",
       "version_major": 2,
       "version_minor": 0
      },
      "text/plain": [
       "FloatProgress(value=0.0, bar_style='info', description='Progress:', layout=Layout(height='25px', width='50%'),…"
      ]
     },
     "metadata": {},
     "output_type": "display_data"
    },
    {
     "name": "stdout",
     "output_type": "stream",
     "text": [
      "ID\n",
      "1    1995\n",
      "2    1995\n",
      "3    1995\n",
      "4    1995\n",
      "5    1995\n",
      "Name: Title, dtype: int64"
     ]
    }
   ],
   "source": [
    "# assigne release year for each movie to Pandas Series\n",
    "year = pd.Series(df_movieLens['Title']).str[-5:-1].astype('int')\n",
    "year.head()"
   ]
  },
  {
   "cell_type": "code",
   "execution_count": 7,
   "metadata": {},
   "outputs": [
    {
     "data": {
      "application/vnd.jupyter.widget-view+json": {
       "model_id": "9117433b15574ae2923ffefddc1f8912",
       "version_major": 2,
       "version_minor": 0
      },
      "text/plain": [
       "VBox()"
      ]
     },
     "metadata": {},
     "output_type": "display_data"
    },
    {
     "data": {
      "application/vnd.jupyter.widget-view+json": {
       "model_id": "",
       "version_major": 2,
       "version_minor": 0
      },
      "text/plain": [
       "FloatProgress(value=0.0, bar_style='info', description='Progress:', layout=Layout(height='25px', width='50%'),…"
      ]
     },
     "metadata": {},
     "output_type": "display_data"
    },
    {
     "name": "stdout",
     "output_type": "stream",
     "text": [
      "ID\n",
      "1                      Toy Story\n",
      "2                        Jumanji\n",
      "3               Grumpier Old Men\n",
      "4              Waiting to Exhale\n",
      "5    Father of the Bride Part II\n",
      "Name: Title, dtype: object"
     ]
    }
   ],
   "source": [
    "# assigne title for each movie to Pandas Series\n",
    "title = pd.Series(df_movieLens['Title']).str[:-7].astype('str')\n",
    "title.head()"
   ]
  },
  {
   "cell_type": "code",
   "execution_count": 8,
   "metadata": {},
   "outputs": [
    {
     "data": {
      "application/vnd.jupyter.widget-view+json": {
       "model_id": "4df4d6fc532247ffbd2e0060a2891a4a",
       "version_major": 2,
       "version_minor": 0
      },
      "text/plain": [
       "VBox()"
      ]
     },
     "metadata": {},
     "output_type": "display_data"
    },
    {
     "data": {
      "application/vnd.jupyter.widget-view+json": {
       "model_id": "",
       "version_major": 2,
       "version_minor": 0
      },
      "text/plain": [
       "FloatProgress(value=0.0, bar_style='info', description='Progress:', layout=Layout(height='25px', width='50%'),…"
      ]
     },
     "metadata": {},
     "output_type": "display_data"
    },
    {
     "name": "stdout",
     "output_type": "stream",
     "text": [
      "                             Title  ...  Year\n",
      "ID                                  ...      \n",
      "1                        Toy Story  ...  1995\n",
      "2                          Jumanji  ...  1995\n",
      "3                 Grumpier Old Men  ...  1995\n",
      "4                Waiting to Exhale  ...  1995\n",
      "5      Father of the Bride Part II  ...  1995\n",
      "6                             Heat  ...  1995\n",
      "7                          Sabrina  ...  1995\n",
      "8                     Tom and Huck  ...  1995\n",
      "9                     Sudden Death  ...  1995\n",
      "10                       GoldenEye  ...  1995\n",
      "11         American President, The  ...  1995\n",
      "12     Dracula: Dead and Loving It  ...  1995\n",
      "13                           Balto  ...  1995\n",
      "14                           Nixon  ...  1995\n",
      "15                Cutthroat Island  ...  1995\n",
      "16                          Casino  ...  1995\n",
      "17           Sense and Sensibility  ...  1995\n",
      "18                      Four Rooms  ...  1995\n",
      "19  Ace Ventura: When Nature Calls  ...  1995\n",
      "20                     Money Train  ...  1995\n",
      "\n",
      "[20 rows x 3 columns]"
     ]
    }
   ],
   "source": [
    "# overwrite 'Title' column with single movie's title\n",
    "df_movieLens['Title'] = title\n",
    "\n",
    "# add 'Year' column extracted earlier from original 'Title' column\n",
    "df_movieLens['Year'] = year\n",
    "\n",
    "df_movieLens.head(20)"
   ]
  },
  {
   "cell_type": "markdown",
   "metadata": {},
   "source": [
    "Value in 'Genres' column in dataset _movies.dat_ is a list of genres assigned to each movie. Movie can be classified to more than one genre thus genres are separated by pipe '|'. In that form, it's not possible to analyse dataset.\n",
    "\n",
    "Let's see how splitting would work."
   ]
  },
  {
   "cell_type": "code",
   "execution_count": 9,
   "metadata": {},
   "outputs": [
    {
     "data": {
      "application/vnd.jupyter.widget-view+json": {
       "model_id": "293aebdf56714055bec502d537948e13",
       "version_major": 2,
       "version_minor": 0
      },
      "text/plain": [
       "VBox()"
      ]
     },
     "metadata": {},
     "output_type": "display_data"
    },
    {
     "data": {
      "application/vnd.jupyter.widget-view+json": {
       "model_id": "",
       "version_major": 2,
       "version_minor": 0
      },
      "text/plain": [
       "FloatProgress(value=0.0, bar_style='info', description='Progress:', layout=Layout(height='25px', width='50%'),…"
      ]
     },
     "metadata": {},
     "output_type": "display_data"
    },
    {
     "name": "stdout",
     "output_type": "stream",
     "text": [
      "            0          1         2       3        4     5     6     7\n",
      "ID                                                                   \n",
      "1   Adventure  Animation  Children  Comedy  Fantasy  None  None  None\n",
      "2   Adventure   Children   Fantasy    None     None  None  None  None\n",
      "3      Comedy    Romance      None    None     None  None  None  None\n",
      "4      Comedy      Drama   Romance    None     None  None  None  None\n",
      "5      Comedy       None      None    None     None  None  None  None"
     ]
    }
   ],
   "source": [
    "pd.Series(df_movieLens['Genres']).str.split('|', expand = True).head()"
   ]
  },
  {
   "cell_type": "markdown",
   "metadata": {},
   "source": [
    "Based on first 5 rows of dataset, we can see that simply splitting is not right solution. List of genres for each movie was splitted into single genre however the form of table is not ready to analysis at all.\n",
    "\n",
    "Here, we would like to have each genre as a new column with values either 1 (if movie is classified) or 0 (if movie is not classified). Example for the first row from table above:\n",
    "\n",
    "|ID|Adventure|Animation|Children|Comedy|Fantasy|Romance|Drama|Horror|etc...|\n",
    "|-|-|-|-|-|-|-|-|-|-|\n",
    "|1|1|1|1|1|1|0|0|0|etc...|\n",
    "|2|1|0|1|0|1|0|0|0|etc...|\n",
    "\n",
    "Before it would be able to create new columns for each genre, distinct genres should be found."
   ]
  },
  {
   "cell_type": "code",
   "execution_count": 10,
   "metadata": {},
   "outputs": [
    {
     "data": {
      "application/vnd.jupyter.widget-view+json": {
       "model_id": "86d2445329fe47e3918c89653a174b72",
       "version_major": 2,
       "version_minor": 0
      },
      "text/plain": [
       "VBox()"
      ]
     },
     "metadata": {},
     "output_type": "display_data"
    },
    {
     "data": {
      "application/vnd.jupyter.widget-view+json": {
       "model_id": "",
       "version_major": 2,
       "version_minor": 0
      },
      "text/plain": [
       "FloatProgress(value=0.0, bar_style='info', description='Progress:', layout=Layout(height='25px', width='50%'),…"
      ]
     },
     "metadata": {},
     "output_type": "display_data"
    },
    {
     "name": "stdout",
     "output_type": "stream",
     "text": [
      "array(['Adventure', 'Animation', 'Children', 'Comedy', 'Fantasy',\n",
      "       'Romance', 'Drama', 'Action', 'Crime', 'Thriller', 'Horror',\n",
      "       'Mystery', 'Sci-Fi', 'IMAX', 'Documentary', 'War', 'Musical',\n",
      "       'Film-Noir', 'Western', '(no genres listed)'], dtype=object)"
     ]
    }
   ],
   "source": [
    "# assigne unique genres to list\n",
    "uniqueValues = pd.DataFrame(df_movieLens['Genres'].str.split('|').tolist()).stack().unique()\n",
    "uniqueValues"
   ]
  },
  {
   "cell_type": "code",
   "execution_count": 11,
   "metadata": {},
   "outputs": [
    {
     "data": {
      "application/vnd.jupyter.widget-view+json": {
       "model_id": "61a66995812c4e8694fdf20d2e1874f9",
       "version_major": 2,
       "version_minor": 0
      },
      "text/plain": [
       "VBox()"
      ]
     },
     "metadata": {},
     "output_type": "display_data"
    },
    {
     "data": {
      "application/vnd.jupyter.widget-view+json": {
       "model_id": "",
       "version_major": 2,
       "version_minor": 0
      },
      "text/plain": [
       "FloatProgress(value=0.0, bar_style='info', description='Progress:', layout=Layout(height='25px', width='50%'),…"
      ]
     },
     "metadata": {},
     "output_type": "display_data"
    },
    {
     "name": "stdout",
     "output_type": "stream",
     "text": [
      "                          Title  Year  ...  War  Western\n",
      "ID                                     ...              \n",
      "1                     Toy Story  1995  ...    0        0\n",
      "2                       Jumanji  1995  ...    0        0\n",
      "3              Grumpier Old Men  1995  ...    0        0\n",
      "4             Waiting to Exhale  1995  ...    0        0\n",
      "5   Father of the Bride Part II  1995  ...    0        0\n",
      "6                          Heat  1995  ...    0        0\n",
      "7                       Sabrina  1995  ...    0        0\n",
      "8                  Tom and Huck  1995  ...    0        0\n",
      "9                  Sudden Death  1995  ...    0        0\n",
      "10                    GoldenEye  1995  ...    0        0\n",
      "\n",
      "[10 rows x 22 columns]"
     ]
    }
   ],
   "source": [
    "# add genres columns and fill with 0 and 1\n",
    "df_movieLens = df_movieLens.join(df_movieLens['Genres'].str.get_dummies())\n",
    "\n",
    "# # drop 'Genres' column\n",
    "df_movieLens.drop('Genres', inplace = True, axis = 1)\n",
    "\n",
    "# display first 10 rows of dataset\n",
    "df_movieLens.head(10)"
   ]
  },
  {
   "cell_type": "markdown",
   "metadata": {},
   "source": [
    "Converting 'Timestamp' column in ratings dataframe."
   ]
  },
  {
   "cell_type": "code",
   "execution_count": 12,
   "metadata": {},
   "outputs": [
    {
     "data": {
      "application/vnd.jupyter.widget-view+json": {
       "model_id": "8aa23254822041408e24a8c73b225b01",
       "version_major": 2,
       "version_minor": 0
      },
      "text/plain": [
       "VBox()"
      ]
     },
     "metadata": {},
     "output_type": "display_data"
    },
    {
     "data": {
      "application/vnd.jupyter.widget-view+json": {
       "model_id": "",
       "version_major": 2,
       "version_minor": 0
      },
      "text/plain": [
       "FloatProgress(value=0.0, bar_style='info', description='Progress:', layout=Layout(height='25px', width='50%'),…"
      ]
     },
     "metadata": {},
     "output_type": "display_data"
    },
    {
     "name": "stdout",
     "output_type": "stream",
     "text": [
      "UserID         int64\n",
      "Rate         float64\n",
      "Timestamp      int64\n",
      "dtype: object"
     ]
    }
   ],
   "source": [
    "# check what type are values in 'Timestamp' column\n",
    "df_movieLensRates.dtypes"
   ]
  },
  {
   "cell_type": "code",
   "execution_count": 13,
   "metadata": {},
   "outputs": [
    {
     "data": {
      "application/vnd.jupyter.widget-view+json": {
       "model_id": "1c70531b0cde48dd8b604dfac1d85819",
       "version_major": 2,
       "version_minor": 0
      },
      "text/plain": [
       "VBox()"
      ]
     },
     "metadata": {},
     "output_type": "display_data"
    },
    {
     "data": {
      "application/vnd.jupyter.widget-view+json": {
       "model_id": "",
       "version_major": 2,
       "version_minor": 0
      },
      "text/plain": [
       "FloatProgress(value=0.0, bar_style='info', description='Progress:', layout=Layout(height='25px', width='50%'),…"
      ]
     },
     "metadata": {},
     "output_type": "display_data"
    },
    {
     "name": "stdout",
     "output_type": "stream",
     "text": [
      "    UserID  Rate           Timestamp\n",
      "ID                                  \n",
      "1      122   5.0 1996-08-02 11:24:06\n",
      "1      185   5.0 1996-08-02 10:58:45\n",
      "1      231   5.0 1996-08-02 10:56:32\n",
      "1      292   5.0 1996-08-02 10:57:01\n",
      "1      316   5.0 1996-08-02 10:56:32\n",
      "       UserID  Rate           Timestamp\n",
      "ID                                     \n",
      "71567    2107   1.0 1998-12-02 06:35:53\n",
      "71567    2126   2.0 1998-12-03 01:39:03\n",
      "71567    2294   5.0 1998-12-02 05:52:48\n",
      "71567    2338   2.0 1998-12-02 05:53:36\n",
      "71567    2384   2.0 1998-12-02 05:56:13\n",
      "       UserID  Rate           Timestamp\n",
      "ID                                     \n",
      "54970     141   4.5 2006-08-09 04:19:45\n",
      "23189    3977   3.5 2005-05-05 19:30:41\n",
      "17153    1409   3.0 1997-04-02 23:39:03\n",
      "28568    2321   3.0 1999-10-21 07:38:18\n",
      "63071     597   3.0 2000-05-07 21:09:40\n",
      "51882    2789   0.5 2007-06-02 03:17:58\n",
      "18652     858   4.5 2006-02-16 00:51:43\n",
      "33547    6708   4.0 2003-10-24 17:57:40\n",
      "48815    4007   3.0 2005-02-02 05:01:11\n",
      "34572    2572   3.0 2000-03-28 17:36:27"
     ]
    }
   ],
   "source": [
    "# 'Timestamp' is integer and values are seconds from midnight epoch time, so it is possible to use [unit = 's'] parameter\n",
    "df_movieLensRates['Timestamp'] = pd.to_datetime(df_movieLensRates['Timestamp'], unit= 's')\n",
    "\n",
    "# display first 5 rows of dataset\n",
    "print(df_movieLensRates.head())\n",
    "\n",
    "# display last 5 rows of dataset\n",
    "print(df_movieLensRates.tail())\n",
    "\n",
    "# display random 15 rows of dataset\n",
    "print(df_movieLensRates.sample(n = 10))"
   ]
  },
  {
   "cell_type": "markdown",
   "metadata": {},
   "source": [
    "Datasets:\n",
    "* movies.dat -> df_movieLens\n",
    "* rating.dat -> df_movieLensRates\n",
    "\n",
    "were cleaned-up and prepared for further analysis.\n",
    "\n",
    "Here, I'll save joined datasets to csv to use it later for analysis in Spark."
   ]
  },
  {
   "cell_type": "code",
   "execution_count": 14,
   "metadata": {},
   "outputs": [
    {
     "data": {
      "application/vnd.jupyter.widget-view+json": {
       "model_id": "03452bdc924e4e81b3e01180e53c8171",
       "version_major": 2,
       "version_minor": 0
      },
      "text/plain": [
       "VBox()"
      ]
     },
     "metadata": {},
     "output_type": "display_data"
    },
    {
     "data": {
      "application/vnd.jupyter.widget-view+json": {
       "model_id": "",
       "version_major": 2,
       "version_minor": 0
      },
      "text/plain": [
       "FloatProgress(value=0.0, bar_style='info', description='Progress:', layout=Layout(height='25px', width='50%'),…"
      ]
     },
     "metadata": {},
     "output_type": "display_data"
    },
    {
     "name": "stdout",
     "output_type": "stream",
     "text": [
      "                         Title  Year  ...  Rate           Timestamp\n",
      "ID                                    ...                          \n",
      "1                    Toy Story  1995  ...   5.0 1996-08-02 11:24:06\n",
      "1                    Toy Story  1995  ...   5.0 1996-08-02 10:58:45\n",
      "1                    Toy Story  1995  ...   5.0 1996-08-02 10:56:32\n",
      "1                    Toy Story  1995  ...   5.0 1996-08-02 10:57:01\n",
      "1                    Toy Story  1995  ...   5.0 1996-08-02 10:56:32\n",
      "...                        ...   ...  ...   ...                 ...\n",
      "65133  Blackadder Back & Forth  1999  ...   3.0 2000-05-12 17:39:16\n",
      "65133  Blackadder Back & Forth  1999  ...   2.0 2000-05-12 17:37:52\n",
      "65133  Blackadder Back & Forth  1999  ...   3.0 2000-05-12 17:37:37\n",
      "65133  Blackadder Back & Forth  1999  ...   4.0 2000-05-12 17:37:15\n",
      "65133  Blackadder Back & Forth  1999  ...   3.0 2000-05-12 17:38:26\n",
      "\n",
      "[1462309 rows x 25 columns]"
     ]
    }
   ],
   "source": [
    "df_moviesAndRates = df_movieLens.join(df_movieLensRates, how = 'inner')\n",
    "df_moviesAndRates"
   ]
  },
  {
   "cell_type": "markdown",
   "metadata": {},
   "source": [
    "#### Bonus!\n",
    "\n",
    "It was found that movies with 'The' prefix is displayed in weird form, eg. 'American President, The' instead of 'The American President' or French 'Père Noël est une Ordure, Le' instead of 'Le Père Noël est une Ordure'.\n",
    "There are also titles with comma, so this will also be updated to use dot, eg.\" 'Vernon, Florida' -> 'Vernon. Florida'\n",
    "Let's correct it as a bonus task.\n",
    "\n",
    "As the example I'll use movie 'The American President', 'Le Père Noël est une Ordure' and 'Vernon. Florida'."
   ]
  },
  {
   "cell_type": "code",
   "execution_count": 15,
   "metadata": {},
   "outputs": [
    {
     "data": {
      "application/vnd.jupyter.widget-view+json": {
       "model_id": "0faa9016d90e46798e258b7a15d441c5",
       "version_major": 2,
       "version_minor": 0
      },
      "text/plain": [
       "VBox()"
      ]
     },
     "metadata": {},
     "output_type": "display_data"
    },
    {
     "data": {
      "application/vnd.jupyter.widget-view+json": {
       "model_id": "",
       "version_major": 2,
       "version_minor": 0
      },
      "text/plain": [
       "FloatProgress(value=0.0, bar_style='info', description='Progress:', layout=Layout(height='25px', width='50%'),…"
      ]
     },
     "metadata": {},
     "output_type": "display_data"
    },
    {
     "name": "stdout",
     "output_type": "stream",
     "text": [
      "          ID                         Title  ...  Rate           Timestamp\n",
      "1298      11       American President, The  ...   5.0 1999-12-22 15:40:15\n",
      "1299      11       American President, The  ...   3.0 1999-12-24 05:08:25\n",
      "1300      11       American President, The  ...   5.0 1999-12-22 15:44:55\n",
      "1301      11       American President, The  ...   5.0 1999-12-22 15:31:08\n",
      "1302      11       American President, The  ...   4.0 1999-12-22 15:30:39\n",
      "...      ...                           ...  ...   ...                 ...\n",
      "798337  6119  Père Noël est une Ordure, Le  ...   2.0 2008-11-23 17:19:27\n",
      "798338  6119  Père Noël est une Ordure, Le  ...   2.0 2008-11-06 10:57:45\n",
      "798339  6119  Père Noël est une Ordure, Le  ...   3.5 2008-07-27 20:57:20\n",
      "798340  6119  Père Noël est une Ordure, Le  ...   3.0 2008-10-29 13:52:28\n",
      "798341  6119  Père Noël est une Ordure, Le  ...   2.5 2008-09-29 14:49:55\n",
      "\n",
      "[499 rows x 26 columns]"
     ]
    }
   ],
   "source": [
    "# reset index to find movie 'American President, The' - this movie will be my example to show replacement process\n",
    "df_moviesAndRates_v1 = df_moviesAndRates.reset_index()\n",
    "\n",
    "# display all records of movie 'American President'\n",
    "df_moviesAndRates_v1.loc[(df_moviesAndRates_v1['Title'] == 'American President, The') | (df_moviesAndRates_v1['Title'] == 'Père Noël est une Ordure, Le') | (df_moviesAndRates_v1['Title'] == 'Vernon, Florida')]"
   ]
  },
  {
   "cell_type": "markdown",
   "metadata": {},
   "source": [
    "For replacement, I'll use _Series.str.replace_ function.\n",
    "\n",
    "Here, there are two solutions. I'll present them both:\n",
    "   1. simply delete word 'The' and 'Le' at the end of each movie's title\n",
    "   2. move word 'The', 'Le' and replacing ',' to '.' from the end to beginning of title"
   ]
  },
  {
   "cell_type": "markdown",
   "metadata": {},
   "source": [
    "1. Delete word 'The' and 'Le' at the end of each movie's title."
   ]
  },
  {
   "cell_type": "code",
   "execution_count": 16,
   "metadata": {
    "scrolled": true
   },
   "outputs": [
    {
     "data": {
      "application/vnd.jupyter.widget-view+json": {
       "model_id": "fb1ca2784d5f48458eeea2ae3c381ed3",
       "version_major": 2,
       "version_minor": 0
      },
      "text/plain": [
       "VBox()"
      ]
     },
     "metadata": {},
     "output_type": "display_data"
    },
    {
     "data": {
      "application/vnd.jupyter.widget-view+json": {
       "model_id": "",
       "version_major": 2,
       "version_minor": 0
      },
      "text/plain": [
       "FloatProgress(value=0.0, bar_style='info', description='Progress:', layout=Layout(height='25px', width='50%'),…"
      ]
     },
     "metadata": {},
     "output_type": "display_data"
    },
    {
     "name": "stdout",
     "output_type": "stream",
     "text": [
      "          ID                     Title  Year  ...  UserID  Rate           Timestamp\n",
      "1298      11        American President  1995  ...     260   5.0 1999-12-22 15:40:15\n",
      "1299      11        American President  1995  ...     296   3.0 1999-12-24 05:08:25\n",
      "1300      11        American President  1995  ...     349   5.0 1999-12-22 15:44:55\n",
      "1301      11        American President  1995  ...     440   5.0 1999-12-22 15:31:08\n",
      "1302      11        American President  1995  ...     480   4.0 1999-12-22 15:30:39\n",
      "...      ...                       ...   ...  ...     ...   ...                 ...\n",
      "798337  6119  Père Noël est une Ordure  1982  ...   60037   2.0 2008-11-23 17:19:27\n",
      "798338  6119  Père Noël est une Ordure  1982  ...   60040   2.0 2008-11-06 10:57:45\n",
      "798339  6119  Père Noël est une Ordure  1982  ...   60074   3.5 2008-07-27 20:57:20\n",
      "798340  6119  Père Noël est une Ordure  1982  ...   61132   3.0 2008-10-29 13:52:28\n",
      "798341  6119  Père Noël est une Ordure  1982  ...   61350   2.5 2008-09-29 14:49:55\n",
      "\n",
      "[499 rows x 26 columns]"
     ]
    }
   ],
   "source": [
    "# delete prefix 'The' from the end of title\n",
    "df_moviesAndRates_v1['Title'] = df_moviesAndRates_v1['Title'].str.replace(', The', '', case = True)\n",
    "df_moviesAndRates_v1['Title'] = df_moviesAndRates_v1['Title'].str.replace(',The', '', case = True)\n",
    "df_moviesAndRates_v1['Title'] = df_moviesAndRates_v1['Title'].str.replace(', Le', '', case = True)\n",
    "df_moviesAndRates_v1['Title'] = df_moviesAndRates_v1['Title'].str.replace(', ', ' ', case = True)\n",
    "df_moviesAndRates_v1['Title'] = df_moviesAndRates_v1['Title'].str.replace(',', '.', case = True)\n",
    "\n",
    "# display all records of movie 'The Temp'\n",
    "df_moviesAndRates_v1.loc[(df_moviesAndRates_v1['Title'] == 'American President') | (df_moviesAndRates_v1['Title'] == 'Père Noël est une Ordure') | (df_moviesAndRates_v1['Title'] == 'Vernon Florida')]"
   ]
  },
  {
   "cell_type": "code",
   "execution_count": 17,
   "metadata": {},
   "outputs": [
    {
     "data": {
      "application/vnd.jupyter.widget-view+json": {
       "model_id": "489b72df62cc47afafa2befa09e45592",
       "version_major": 2,
       "version_minor": 0
      },
      "text/plain": [
       "VBox()"
      ]
     },
     "metadata": {},
     "output_type": "display_data"
    },
    {
     "data": {
      "application/vnd.jupyter.widget-view+json": {
       "model_id": "",
       "version_major": 2,
       "version_minor": 0
      },
      "text/plain": [
       "FloatProgress(value=0.0, bar_style='info', description='Progress:', layout=Layout(height='25px', width='50%'),…"
      ]
     },
     "metadata": {},
     "output_type": "display_data"
    },
    {
     "name": "stdout",
     "output_type": "stream",
     "text": [
      "          ID           Title  Year  ...  UserID  Rate           Timestamp\n",
      "766684  5914  Vernon Florida  1981  ...      88   3.5 2008-07-25 22:51:16\n",
      "766685  5914  Vernon Florida  1981  ...     260   5.0 2008-07-25 23:30:54\n",
      "766686  5914  Vernon Florida  1981  ...     916   4.5 2008-07-25 22:50:52\n",
      "766687  5914  Vernon Florida  1981  ...    1021   3.0 2008-07-25 23:28:04\n",
      "766688  5914  Vernon Florida  1981  ...    1096   4.0 2008-07-25 22:52:16\n",
      "766689  5914  Vernon Florida  1981  ...    1196   5.0 2008-07-25 23:30:34\n",
      "766690  5914  Vernon Florida  1981  ...    1210   4.0 2008-07-25 23:30:49\n",
      "766691  5914  Vernon Florida  1981  ...    1693   3.5 2008-07-25 22:51:13\n",
      "766692  5914  Vernon Florida  1981  ...    2010   5.0 2008-07-25 22:51:28\n",
      "766693  5914  Vernon Florida  1981  ...    2394   3.0 2008-07-25 22:50:25\n",
      "766694  5914  Vernon Florida  1981  ...    2413   4.0 2008-07-25 22:51:58\n",
      "766695  5914  Vernon Florida  1981  ...    2530   4.0 2008-07-25 23:29:05\n",
      "766696  5914  Vernon Florida  1981  ...    2532   3.0 2008-07-25 23:29:27\n",
      "766697  5914  Vernon Florida  1981  ...    2926   3.0 2008-07-25 23:27:53\n",
      "766698  5914  Vernon Florida  1981  ...    3844   4.0 2008-07-25 23:28:15\n",
      "766699  5914  Vernon Florida  1981  ...    3986   0.5 2008-07-25 22:51:50\n",
      "766700  5914  Vernon Florida  1981  ...    4993   5.0 2008-07-25 23:31:06\n",
      "766701  5914  Vernon Florida  1981  ...    5952   5.0 2008-07-25 23:31:25\n",
      "766702  5914  Vernon Florida  1981  ...    7153   5.0 2008-07-25 23:31:16\n",
      "766703  5914  Vernon Florida  1981  ...   33794   4.5 2008-07-25 23:30:16\n",
      "766704  5914  Vernon Florida  1981  ...   46723   4.5 2008-07-25 23:29:34\n",
      "766705  5914  Vernon Florida  1981  ...   51662   3.0 2008-07-25 22:52:11\n",
      "766706  5914  Vernon Florida  1981  ...   55442   5.0 2008-07-25 23:32:00\n",
      "766707  5914  Vernon Florida  1981  ...   56367   5.0 2008-07-25 23:28:45\n",
      "766708  5914  Vernon Florida  1981  ...   57640   4.5 2008-07-25 23:32:10\n",
      "766709  5914  Vernon Florida  1981  ...   58559   5.0 2008-07-25 23:30:02\n",
      "766710  5914  Vernon Florida  1981  ...   59784   4.0 2008-07-25 23:32:05\n",
      "\n",
      "[27 rows x 26 columns]"
     ]
    }
   ],
   "source": [
    "df_moviesAndRates_v1.loc[df_moviesAndRates_v1['Title'] == 'Vernon Florida']"
   ]
  },
  {
   "cell_type": "markdown",
   "metadata": {},
   "source": [
    "2. Move word 'The', 'Le' and replacing ',' to '.' from the end to beginning of title."
   ]
  },
  {
   "cell_type": "code",
   "execution_count": 18,
   "metadata": {
    "scrolled": true
   },
   "outputs": [
    {
     "data": {
      "application/vnd.jupyter.widget-view+json": {
       "model_id": "57c561f2b11f4e2ebe59c54674eac0c4",
       "version_major": 2,
       "version_minor": 0
      },
      "text/plain": [
       "VBox()"
      ]
     },
     "metadata": {},
     "output_type": "display_data"
    },
    {
     "data": {
      "application/vnd.jupyter.widget-view+json": {
       "model_id": "",
       "version_major": 2,
       "version_minor": 0
      },
      "text/plain": [
       "FloatProgress(value=0.0, bar_style='info', description='Progress:', layout=Layout(height='25px', width='50%'),…"
      ]
     },
     "metadata": {},
     "output_type": "display_data"
    },
    {
     "name": "stdout",
     "output_type": "stream",
     "text": [
      "          ID                         Title  ...  Rate           Timestamp\n",
      "1298      11       American President, The  ...   5.0 1999-12-22 15:40:15\n",
      "1299      11       American President, The  ...   3.0 1999-12-24 05:08:25\n",
      "1300      11       American President, The  ...   5.0 1999-12-22 15:44:55\n",
      "1301      11       American President, The  ...   5.0 1999-12-22 15:31:08\n",
      "1302      11       American President, The  ...   4.0 1999-12-22 15:30:39\n",
      "...      ...                           ...  ...   ...                 ...\n",
      "798337  6119  Père Noël est une Ordure, Le  ...   2.0 2008-11-23 17:19:27\n",
      "798338  6119  Père Noël est une Ordure, Le  ...   2.0 2008-11-06 10:57:45\n",
      "798339  6119  Père Noël est une Ordure, Le  ...   3.5 2008-07-27 20:57:20\n",
      "798340  6119  Père Noël est une Ordure, Le  ...   3.0 2008-10-29 13:52:28\n",
      "798341  6119  Père Noël est une Ordure, Le  ...   2.5 2008-09-29 14:49:55\n",
      "\n",
      "[472 rows x 26 columns]"
     ]
    }
   ],
   "source": [
    "# reset index to find movie 'American President, The' - this movie will be my example to show replacement process\n",
    "df_moviesAndRates_v2 = df_moviesAndRates.reset_index()\n",
    "\n",
    "# display 10 records of movie 'The American President'\n",
    "df_moviesAndRates_v2.loc[(df_moviesAndRates_v2['Title'] == 'American President, The') | (df_moviesAndRates_v2['Title'] == 'Père Noël est une Ordure, Le')]"
   ]
  },
  {
   "cell_type": "code",
   "execution_count": 19,
   "metadata": {
    "scrolled": true
   },
   "outputs": [
    {
     "data": {
      "application/vnd.jupyter.widget-view+json": {
       "model_id": "99f208e4965e421ca460766276a88019",
       "version_major": 2,
       "version_minor": 0
      },
      "text/plain": [
       "VBox()"
      ]
     },
     "metadata": {},
     "output_type": "display_data"
    },
    {
     "data": {
      "application/vnd.jupyter.widget-view+json": {
       "model_id": "",
       "version_major": 2,
       "version_minor": 0
      },
      "text/plain": [
       "FloatProgress(value=0.0, bar_style='info', description='Progress:', layout=Layout(height='25px', width='50%'),…"
      ]
     },
     "metadata": {},
     "output_type": "display_data"
    },
    {
     "name": "stdout",
     "output_type": "stream",
     "text": [
      "          ID                        Title  ...  Rate           Timestamp\n",
      "1298      11       The American President  ...   5.0 1999-12-22 15:40:15\n",
      "1299      11       The American President  ...   3.0 1999-12-24 05:08:25\n",
      "1300      11       The American President  ...   5.0 1999-12-22 15:44:55\n",
      "1301      11       The American President  ...   5.0 1999-12-22 15:31:08\n",
      "1302      11       The American President  ...   4.0 1999-12-22 15:30:39\n",
      "...      ...                          ...  ...   ...                 ...\n",
      "798337  6119  Le Père Noël est une Ordure  ...   2.0 2008-11-23 17:19:27\n",
      "798338  6119  Le Père Noël est une Ordure  ...   2.0 2008-11-06 10:57:45\n",
      "798339  6119  Le Père Noël est une Ordure  ...   3.5 2008-07-27 20:57:20\n",
      "798340  6119  Le Père Noël est une Ordure  ...   3.0 2008-10-29 13:52:28\n",
      "798341  6119  Le Père Noël est une Ordure  ...   2.5 2008-09-29 14:49:55\n",
      "\n",
      "[499 rows x 26 columns]"
     ]
    }
   ],
   "source": [
    "# move prefix 'The' from the end to beginning of title using lambda function\n",
    "df_moviesAndRates_v2['Title'] = df_moviesAndRates_v2['Title'].apply(lambda x: 'The ' + x.split(',')[0] if ', The' in x else x)\n",
    "df_moviesAndRates_v2['Title'] = df_moviesAndRates_v2['Title'].apply(lambda x: 'The ' + x.split(',')[0] if ',The' in x else x)\n",
    "df_moviesAndRates_v2['Title'] = df_moviesAndRates_v2['Title'].apply(lambda x: 'Le ' + x.split(',')[0] if ', Le' in x else x)\n",
    "df_moviesAndRates_v2['Title'] = df_moviesAndRates_v2['Title'].str.replace(', ', '. ', case = True)\n",
    "df_moviesAndRates_v2['Title'] = df_moviesAndRates_v2['Title'].str.replace(',', '.', case = True)\n",
    "\n",
    "# display 10 records of movie 'The American President'\n",
    "df_moviesAndRates_v2.loc[(df_moviesAndRates_v2['Title'] == 'The American President') | (df_moviesAndRates_v2['Title'] == 'Le Père Noël est une Ordure') | (df_moviesAndRates_v2['Title'] == 'Vernon. Florida')]"
   ]
  },
  {
   "cell_type": "markdown",
   "metadata": {},
   "source": [
    "Our final table is stored in variable df_moviesAndRates_v2. Let's save the output to .csv."
   ]
  },
  {
   "cell_type": "code",
   "execution_count": 20,
   "metadata": {},
   "outputs": [
    {
     "data": {
      "application/vnd.jupyter.widget-view+json": {
       "model_id": "98e699050df7441286b007f0541485a7",
       "version_major": 2,
       "version_minor": 0
      },
      "text/plain": [
       "VBox()"
      ]
     },
     "metadata": {},
     "output_type": "display_data"
    },
    {
     "data": {
      "application/vnd.jupyter.widget-view+json": {
       "model_id": "",
       "version_major": 2,
       "version_minor": 0
      },
      "text/plain": [
       "FloatProgress(value=0.0, bar_style='info', description='Progress:', layout=Layout(height='25px', width='50%'),…"
      ]
     },
     "metadata": {},
     "output_type": "display_data"
    },
    {
     "name": "stdout",
     "output_type": "stream",
     "text": [
      "Dataset is saved!"
     ]
    }
   ],
   "source": [
    "df_moviesAndRates_v2.to_csv('s3://movielens-dataset-bucket/moviesAndRates.csv', index = False)\n",
    "\n",
    "print('Dataset is saved!')"
   ]
  },
  {
   "cell_type": "markdown",
   "metadata": {},
   "source": [
    "## List of distinct genres of movies"
   ]
  },
  {
   "cell_type": "markdown",
   "metadata": {},
   "source": [
    "List of distinct genres was created earlier during data clean-up thus to repeat this, there is need to get original data once again."
   ]
  },
  {
   "cell_type": "code",
   "execution_count": 21,
   "metadata": {},
   "outputs": [
    {
     "data": {
      "application/vnd.jupyter.widget-view+json": {
       "model_id": "c7d85be1e05944f587b50d3684580d49",
       "version_major": 2,
       "version_minor": 0
      },
      "text/plain": [
       "VBox()"
      ]
     },
     "metadata": {},
     "output_type": "display_data"
    },
    {
     "data": {
      "application/vnd.jupyter.widget-view+json": {
       "model_id": "",
       "version_major": 2,
       "version_minor": 0
      },
      "text/plain": [
       "FloatProgress(value=0.0, bar_style='info', description='Progress:', layout=Layout(height='25px', width='50%'),…"
      ]
     },
     "metadata": {},
     "output_type": "display_data"
    },
    {
     "name": "stdout",
     "output_type": "stream",
     "text": [
      "['Adventure' 'Animation' 'Children' 'Comedy' 'Fantasy' 'Romance' 'Drama'\n",
      " 'Action' 'Crime' 'Thriller' 'Horror' 'Mystery' 'Sci-Fi' 'IMAX'\n",
      " 'Documentary' 'War' 'Musical' 'Film-Noir' 'Western' '(no genres listed)']\n",
      "There are: 20 unique movie genres."
     ]
    }
   ],
   "source": [
    "df_movieLensDistinctGenres = pd.read_table(movieLensDatasetPath, \\\n",
    "                             # in the original dataset, fields are separated by '@'\n",
    "                             sep = '@', \\\n",
    "                             # don't get original headers\n",
    "                             header = None, \\\n",
    "                             # name columns\n",
    "                             names = ['ID', 'Title', 'Genres'], \\\n",
    "                             # setup dataframe's index\n",
    "                             index_col = 'ID')\n",
    "\n",
    "# str.split('|') -> split genres separated by pipe '|'\n",
    "# tolist() -> save genres to list\n",
    "# stack() -> reshape Series\n",
    "# unique() -> get distinct values\n",
    "distinctGenres = pd.DataFrame(df_movieLensDistinctGenres['Genres'].str.split('|').tolist()).stack().unique()\n",
    "\n",
    "# display and check how many distinct genres are in the dataset\n",
    "print(distinctGenres)\n",
    "print(f'There are: {len(distinctGenres)} unique movie genres.')"
   ]
  },
  {
   "cell_type": "markdown",
   "metadata": {},
   "source": [
    "---\n",
    "Before I started getting more experienced with Pandas magic functions, I had found solution using Python's 'regular' syntax.\n",
    "\n",
    "Below, there is function which takes two arguments:\n",
    "* Pandas Series (column of DataFrame)\n",
    "* separator"
   ]
  },
  {
   "cell_type": "code",
   "execution_count": 22,
   "metadata": {},
   "outputs": [
    {
     "data": {
      "application/vnd.jupyter.widget-view+json": {
       "model_id": "cf86d79d3a6d4848b1545b8fefbf48d1",
       "version_major": 2,
       "version_minor": 0
      },
      "text/plain": [
       "VBox()"
      ]
     },
     "metadata": {},
     "output_type": "display_data"
    },
    {
     "data": {
      "application/vnd.jupyter.widget-view+json": {
       "model_id": "",
       "version_major": 2,
       "version_minor": 0
      },
      "text/plain": [
       "FloatProgress(value=0.0, bar_style='info', description='Progress:', layout=Layout(height='25px', width='50%'),…"
      ]
     },
     "metadata": {},
     "output_type": "display_data"
    },
    {
     "name": "stdout",
     "output_type": "stream",
     "text": [
      "['Sci-Fi', 'Adventure', 'Romance', 'Drama', 'Animation', 'Western', 'Documentary', 'Thriller', 'Fantasy', 'War', 'Film-Noir', 'Horror', 'Action', '(no genres listed)', 'Musical', 'Children', 'Crime', 'Comedy', 'Mystery', 'IMAX']\n",
      "There are: 20 unique movie genres."
     ]
    }
   ],
   "source": [
    "df_movieLensDistinctGenresFunction = pd.read_table(movieLensDatasetPath, \\\n",
    "                             # in the original dataset, fields are separated by '@'\n",
    "                             sep = '@', \\\n",
    "                             # don't get original headers\n",
    "                             header = None, \\\n",
    "                             # name columns\n",
    "                             names = ['ID', 'Title', 'Genres'], \\\n",
    "                             # setup dataframe's index\n",
    "                             index_col = 'ID')\n",
    "\n",
    "# definition of function\n",
    "def uniqueValues(dataframeColumn, separator):\n",
    "    uniqueGenres = pd.Series(dataframeColumn).unique()\n",
    "    split = [genre.split(separator) for genre in uniqueGenres]\n",
    "\n",
    "    splitList = []\n",
    "    for genres in split:\n",
    "        for genre in genres:\n",
    "            splitList.append(genre)\n",
    "            uniqueGenresSet = set(splitList)\n",
    "    return list(uniqueGenresSet)\n",
    "\n",
    "# call uniqueValues function with required arguments: DataFrame column and separator\n",
    "distinctGenresFunction = uniqueValues(df_movieLensDistinctGenresFunction['Genres'], '|')\n",
    "\n",
    "# display and check how many distinct genres are in the dataset\n",
    "print(distinctGenresFunction)\n",
    "print(f'There are: {len(distinctGenresFunction)} unique movie genres.')"
   ]
  },
  {
   "cell_type": "markdown",
   "metadata": {},
   "source": [
    "## Standard deviation of rate for each movie"
   ]
  },
  {
   "cell_type": "markdown",
   "metadata": {},
   "source": [
    "Before standard deviation will be calculated, I'm goin to join 'Title' from movies dataset to rating dataset. This will allow to see standard deviation for movies rather than theirs IDs."
   ]
  },
  {
   "cell_type": "code",
   "execution_count": 23,
   "metadata": {
    "scrolled": true
   },
   "outputs": [
    {
     "data": {
      "application/vnd.jupyter.widget-view+json": {
       "model_id": "e6d37c13b79f4c878c36b14ac4e711b4",
       "version_major": 2,
       "version_minor": 0
      },
      "text/plain": [
       "VBox()"
      ]
     },
     "metadata": {},
     "output_type": "display_data"
    },
    {
     "data": {
      "application/vnd.jupyter.widget-view+json": {
       "model_id": "",
       "version_major": 2,
       "version_minor": 0
      },
      "text/plain": [
       "FloatProgress(value=0.0, bar_style='info', description='Progress:', layout=Layout(height='25px', width='50%'),…"
      ]
     },
     "metadata": {},
     "output_type": "display_data"
    },
    {
     "name": "stdout",
     "output_type": "stream",
     "text": [
      "    UserID  Rate      Title\n",
      "ID                         \n",
      "1      122   5.0  Toy Story\n",
      "1      185   5.0  Toy Story\n",
      "1      231   5.0  Toy Story\n",
      "1      292   5.0  Toy Story\n",
      "1      316   5.0  Toy Story"
     ]
    }
   ],
   "source": [
    "df_moviesAndRates = df_movieLensRates.join(df_movieLens['Title']) # could be how = 'inner' but I want to show dropna() function.\n",
    "\n",
    "# 'Timestamp' column is not needed so it can be dropped\n",
    "df_moviesAndRates.drop('Timestamp', inplace = True, axis = 1)\n",
    "print(df_moviesAndRates.head())"
   ]
  },
  {
   "cell_type": "markdown",
   "metadata": {},
   "source": [
    "Default Pandas join is LEFT, so it could be possible that there are more rates in ratings.dat than movies in movies.dat.\n",
    "\n",
    "**I could use how = 'inner'** but I wanted to show dropna() function.\n",
    "\n",
    "After joining tables let's check whether there are empty values."
   ]
  },
  {
   "cell_type": "code",
   "execution_count": 24,
   "metadata": {},
   "outputs": [
    {
     "data": {
      "application/vnd.jupyter.widget-view+json": {
       "model_id": "6616d906d09143c58703df5e8037ddba",
       "version_major": 2,
       "version_minor": 0
      },
      "text/plain": [
       "VBox()"
      ]
     },
     "metadata": {},
     "output_type": "display_data"
    },
    {
     "data": {
      "application/vnd.jupyter.widget-view+json": {
       "model_id": "",
       "version_major": 2,
       "version_minor": 0
      },
      "text/plain": [
       "FloatProgress(value=0.0, bar_style='info', description='Progress:', layout=Layout(height='25px', width='50%'),…"
      ]
     },
     "metadata": {},
     "output_type": "display_data"
    },
    {
     "name": "stdout",
     "output_type": "stream",
     "text": [
      "UserID          0\n",
      "Rate            0\n",
      "Title     8537745\n",
      "dtype: int64"
     ]
    }
   ],
   "source": [
    "print(df_moviesAndRates.isnull().sum())"
   ]
  },
  {
   "cell_type": "markdown",
   "metadata": {},
   "source": [
    "Based on results above, there are **missing 8537745 movies in movies.dat** vs. ratings.dat\n",
    "\n",
    ".. that's a lot but once the assumption is to analyze standard deviation per movie's title, I'll drop empty values."
   ]
  },
  {
   "cell_type": "code",
   "execution_count": 25,
   "metadata": {},
   "outputs": [
    {
     "data": {
      "application/vnd.jupyter.widget-view+json": {
       "model_id": "a55ea2eb7af44c4dadb986879974b582",
       "version_major": 2,
       "version_minor": 0
      },
      "text/plain": [
       "VBox()"
      ]
     },
     "metadata": {},
     "output_type": "display_data"
    },
    {
     "data": {
      "application/vnd.jupyter.widget-view+json": {
       "model_id": "",
       "version_major": 2,
       "version_minor": 0
      },
      "text/plain": [
       "FloatProgress(value=0.0, bar_style='info', description='Progress:', layout=Layout(height='25px', width='50%'),…"
      ]
     },
     "metadata": {},
     "output_type": "display_data"
    },
    {
     "name": "stdout",
     "output_type": "stream",
     "text": [
      "       UserID  Rate                    Title\n",
      "ID                                          \n",
      "1         122   5.0                Toy Story\n",
      "1         185   5.0                Toy Story\n",
      "1         231   5.0                Toy Story\n",
      "1         292   5.0                Toy Story\n",
      "1         316   5.0                Toy Story\n",
      "...       ...   ...                      ...\n",
      "65133    3555   3.0  Blackadder Back & Forth\n",
      "65133    3557   2.0  Blackadder Back & Forth\n",
      "65133    3576   3.0  Blackadder Back & Forth\n",
      "65133    3578   4.0  Blackadder Back & Forth\n",
      "65133    3608   3.0  Blackadder Back & Forth\n",
      "\n",
      "[1462309 rows x 3 columns]"
     ]
    }
   ],
   "source": [
    "df_moviesAndRates = df_moviesAndRates.dropna()\n",
    "df_moviesAndRates"
   ]
  },
  {
   "cell_type": "code",
   "execution_count": 26,
   "metadata": {},
   "outputs": [
    {
     "data": {
      "application/vnd.jupyter.widget-view+json": {
       "model_id": "3b4b9993e7794880b7e8a76cea0d289d",
       "version_major": 2,
       "version_minor": 0
      },
      "text/plain": [
       "VBox()"
      ]
     },
     "metadata": {},
     "output_type": "display_data"
    },
    {
     "data": {
      "application/vnd.jupyter.widget-view+json": {
       "model_id": "",
       "version_major": 2,
       "version_minor": 0
      },
      "text/plain": [
       "FloatProgress(value=0.0, bar_style='info', description='Progress:', layout=Layout(height='25px', width='50%'),…"
      ]
     },
     "metadata": {},
     "output_type": "display_data"
    },
    {
     "name": "stdout",
     "output_type": "stream",
     "text": [
      "UserID    0\n",
      "Rate      0\n",
      "Title     0\n",
      "dtype: int64"
     ]
    }
   ],
   "source": [
    "print(df_moviesAndRates.isnull().sum())"
   ]
  },
  {
   "cell_type": "markdown",
   "metadata": {},
   "source": [
    "Thanks for using _dropna()_ all empty values have been deleted.\n",
    "\n",
    "To display standard deviation for title, first there is need to reset index and use 'Title' as index (current index is 'ID')."
   ]
  },
  {
   "cell_type": "code",
   "execution_count": 27,
   "metadata": {},
   "outputs": [
    {
     "data": {
      "application/vnd.jupyter.widget-view+json": {
       "model_id": "002ac825964c4c95ae34b19dbdb3973a",
       "version_major": 2,
       "version_minor": 0
      },
      "text/plain": [
       "VBox()"
      ]
     },
     "metadata": {},
     "output_type": "display_data"
    },
    {
     "data": {
      "application/vnd.jupyter.widget-view+json": {
       "model_id": "",
       "version_major": 2,
       "version_minor": 0
      },
      "text/plain": [
       "FloatProgress(value=0.0, bar_style='info', description='Progress:', layout=Layout(height='25px', width='50%'),…"
      ]
     },
     "metadata": {},
     "output_type": "display_data"
    }
   ],
   "source": [
    "df_moviesAndRates = df_moviesAndRates.reset_index().set_index('Title')"
   ]
  },
  {
   "cell_type": "markdown",
   "metadata": {},
   "source": [
    "Now, dataset is ready to calculate standard deviation.\n",
    "\n",
    "Let's display 5 movies with the greatest standard deviation and 5 movies with the smallest one."
   ]
  },
  {
   "cell_type": "code",
   "execution_count": 28,
   "metadata": {},
   "outputs": [
    {
     "data": {
      "application/vnd.jupyter.widget-view+json": {
       "model_id": "eaa6b76c75e84690849965c8cffcb47a",
       "version_major": 2,
       "version_minor": 0
      },
      "text/plain": [
       "VBox()"
      ]
     },
     "metadata": {},
     "output_type": "display_data"
    },
    {
     "data": {
      "application/vnd.jupyter.widget-view+json": {
       "model_id": "",
       "version_major": 2,
       "version_minor": 0
      },
      "text/plain": [
       "FloatProgress(value=0.0, bar_style='info', description='Progress:', layout=Layout(height='25px', width='50%'),…"
      ]
     },
     "metadata": {},
     "output_type": "display_data"
    },
    {
     "name": "stdout",
     "output_type": "stream",
     "text": [
      "Title\n",
      "Taxi to the Dark Side            2.296880\n",
      "U.S. Marshals                    1.990004\n",
      "Sherlock Holmes in Washington    1.984823\n",
      "Temp, The                        1.912539\n",
      "August Evening                   1.899446\n",
      "Name: Rate, dtype: float64\n",
      "Title\n",
      "Ballad of the Sad Cafe, The    0.0\n",
      "From Beyond                    0.0\n",
      "Hardball                       0.0\n",
      "Layer Cake                     0.0\n",
      "Toy Story                      0.0\n",
      "Name: Rate, dtype: float64"
     ]
    }
   ],
   "source": [
    "print(df_moviesAndRates['Rate'].groupby(['Title']).std().nlargest(5))\n",
    "\n",
    "print(df_moviesAndRates['Rate'].groupby(['Title']).std().nsmallest(5))"
   ]
  },
  {
   "cell_type": "markdown",
   "metadata": {},
   "source": [
    "**High standard deviation**\n",
    "\n",
    "High standard deviation indicates that the values are distributed over a wide range.\n",
    "The highest standard deviation is _2.296880_ for movie _Taxi to the Dark Side_.\n",
    "\n",
    "**Low standard deviation**\n",
    "\n",
    "Low standard deviation indicates that the values tend to be close to the mean. However if standard deviation equals to 0 means that all values are equal to mean and this must mean that all valeus are the same.\n",
    "This is result of situation when all users rate movie the same. Example:"
   ]
  },
  {
   "cell_type": "code",
   "execution_count": 29,
   "metadata": {},
   "outputs": [
    {
     "data": {
      "application/vnd.jupyter.widget-view+json": {
       "model_id": "eafb97a4462e462ab888634abe9e37cc",
       "version_major": 2,
       "version_minor": 0
      },
      "text/plain": [
       "VBox()"
      ]
     },
     "metadata": {},
     "output_type": "display_data"
    },
    {
     "data": {
      "application/vnd.jupyter.widget-view+json": {
       "model_id": "",
       "version_major": 2,
       "version_minor": 0
      },
      "text/plain": [
       "FloatProgress(value=0.0, bar_style='info', description='Progress:', layout=Layout(height='25px', width='50%'),…"
      ]
     },
     "metadata": {},
     "output_type": "display_data"
    },
    {
     "name": "stdout",
     "output_type": "stream",
     "text": [
      "\n",
      "Average rate is 5.0\n",
      "           ID  UserID  Rate\n",
      "Title                      \n",
      "Toy Story   1     122   5.0\n",
      "Toy Story   1     185   5.0\n",
      "Toy Story   1     231   5.0\n",
      "Toy Story   1     292   5.0\n",
      "Toy Story   1     316   5.0\n",
      "Toy Story   1     329   5.0\n",
      "Toy Story   1     355   5.0\n",
      "Toy Story   1     356   5.0\n",
      "Toy Story   1     362   5.0\n",
      "Toy Story   1     364   5.0\n",
      "Toy Story   1     370   5.0\n",
      "Toy Story   1     377   5.0\n",
      "Toy Story   1     420   5.0\n",
      "Toy Story   1     466   5.0\n",
      "Toy Story   1     480   5.0\n",
      "Toy Story   1     520   5.0\n",
      "Toy Story   1     539   5.0\n",
      "Toy Story   1     586   5.0\n",
      "Toy Story   1     588   5.0\n",
      "Toy Story   1     589   5.0\n",
      "Toy Story   1     594   5.0\n",
      "Toy Story   1     616   5.0"
     ]
    }
   ],
   "source": [
    "df_ToyStoryRates = df_moviesAndRates.loc[df_moviesAndRates['ID'] == 1]\n",
    "\n",
    "print(f\"\\nAverage rate is {df_ToyStoryRates['Rate'].mean()}\")\n",
    "print(df_ToyStoryRates)"
   ]
  },
  {
   "cell_type": "markdown",
   "metadata": {},
   "source": [
    "As shown above for _Toy Story_ all rates are equal to 5 thus mean equals to 5 thus standard deviation equals to 0."
   ]
  },
  {
   "cell_type": "markdown",
   "metadata": {},
   "source": [
    "## Correlation between number of rates and average rate"
   ]
  },
  {
   "cell_type": "code",
   "execution_count": 30,
   "metadata": {},
   "outputs": [
    {
     "data": {
      "application/vnd.jupyter.widget-view+json": {
       "model_id": "58583267740c48da9898886ff404b541",
       "version_major": 2,
       "version_minor": 0
      },
      "text/plain": [
       "VBox()"
      ]
     },
     "metadata": {},
     "output_type": "display_data"
    },
    {
     "data": {
      "application/vnd.jupyter.widget-view+json": {
       "model_id": "",
       "version_major": 2,
       "version_minor": 0
      },
      "text/plain": [
       "FloatProgress(value=0.0, bar_style='info', description='Progress:', layout=Layout(height='25px', width='50%'),…"
      ]
     },
     "metadata": {},
     "output_type": "display_data"
    },
    {
     "name": "stdout",
     "output_type": "stream",
     "text": [
      "        Title  UserID  Rate\n",
      "ID                         \n",
      "1   Toy Story     122   5.0\n",
      "1   Toy Story     185   5.0"
     ]
    }
   ],
   "source": [
    "df_correlationNumrateAvgrate = df_moviesAndRates.reset_index().set_index('ID')\n",
    "df_correlationNumrateAvgrate.head(2)"
   ]
  },
  {
   "cell_type": "code",
   "execution_count": 31,
   "metadata": {},
   "outputs": [
    {
     "data": {
      "application/vnd.jupyter.widget-view+json": {
       "model_id": "6ecce0215d92491e91edc9d8dc6edd06",
       "version_major": 2,
       "version_minor": 0
      },
      "text/plain": [
       "VBox()"
      ]
     },
     "metadata": {},
     "output_type": "display_data"
    },
    {
     "data": {
      "application/vnd.jupyter.widget-view+json": {
       "model_id": "",
       "version_major": 2,
       "version_minor": 0
      },
      "text/plain": [
       "FloatProgress(value=0.0, bar_style='info', description='Progress:', layout=Layout(height='25px', width='50%'),…"
      ]
     },
     "metadata": {},
     "output_type": "display_data"
    },
    {
     "name": "stdout",
     "output_type": "stream",
     "text": [
      "                         Title  UserID  Rate  NumRate\n",
      "ID                                                   \n",
      "1                    Toy Story     122   5.0       22\n",
      "1                    Toy Story     185   5.0       22\n",
      "1                    Toy Story     231   5.0       22\n",
      "1                    Toy Story     292   5.0       22\n",
      "1                    Toy Story     316   5.0       22\n",
      "...                        ...     ...   ...      ...\n",
      "65133  Blackadder Back & Forth    3555   3.0       27\n",
      "65133  Blackadder Back & Forth    3557   2.0       27\n",
      "65133  Blackadder Back & Forth    3576   3.0       27\n",
      "65133  Blackadder Back & Forth    3578   4.0       27\n",
      "65133  Blackadder Back & Forth    3608   3.0       27\n",
      "\n",
      "[1462309 rows x 4 columns]"
     ]
    }
   ],
   "source": [
    "df_correlationNumrateAvgrate['NumRate'] = df_correlationNumrateAvgrate['Rate'].groupby('ID').count().astype('int')\n",
    "df_correlationNumrateAvgrate"
   ]
  },
  {
   "cell_type": "code",
   "execution_count": 32,
   "metadata": {},
   "outputs": [
    {
     "data": {
      "application/vnd.jupyter.widget-view+json": {
       "model_id": "3b4d379451e149348fbf0385cf50d60e",
       "version_major": 2,
       "version_minor": 0
      },
      "text/plain": [
       "VBox()"
      ]
     },
     "metadata": {},
     "output_type": "display_data"
    },
    {
     "data": {
      "application/vnd.jupyter.widget-view+json": {
       "model_id": "",
       "version_major": 2,
       "version_minor": 0
      },
      "text/plain": [
       "FloatProgress(value=0.0, bar_style='info', description='Progress:', layout=Layout(height='25px', width='50%'),…"
      ]
     },
     "metadata": {},
     "output_type": "display_data"
    },
    {
     "name": "stdout",
     "output_type": "stream",
     "text": [
      "                         Title  UserID  Rate  NumRate   AvgRate\n",
      "ID                                                             \n",
      "1                    Toy Story     122   5.0       22  5.000000\n",
      "1                    Toy Story     185   5.0       22  5.000000\n",
      "1                    Toy Story     231   5.0       22  5.000000\n",
      "1                    Toy Story     292   5.0       22  5.000000\n",
      "1                    Toy Story     316   5.0       22  5.000000\n",
      "...                        ...     ...   ...      ...       ...\n",
      "65133  Blackadder Back & Forth    3555   3.0       27  3.518519\n",
      "65133  Blackadder Back & Forth    3557   2.0       27  3.518519\n",
      "65133  Blackadder Back & Forth    3576   3.0       27  3.518519\n",
      "65133  Blackadder Back & Forth    3578   4.0       27  3.518519\n",
      "65133  Blackadder Back & Forth    3608   3.0       27  3.518519\n",
      "\n",
      "[1462309 rows x 5 columns]"
     ]
    }
   ],
   "source": [
    "df_correlationNumrateAvgrate['AvgRate'] = df_correlationNumrateAvgrate['Rate'].groupby('ID').mean().astype('float')\n",
    "df_correlationNumrateAvgrate"
   ]
  },
  {
   "cell_type": "code",
   "execution_count": 33,
   "metadata": {},
   "outputs": [
    {
     "data": {
      "application/vnd.jupyter.widget-view+json": {
       "model_id": "da975381018c45b3ad41f778b6177922",
       "version_major": 2,
       "version_minor": 0
      },
      "text/plain": [
       "VBox()"
      ]
     },
     "metadata": {},
     "output_type": "display_data"
    },
    {
     "data": {
      "application/vnd.jupyter.widget-view+json": {
       "model_id": "",
       "version_major": 2,
       "version_minor": 0
      },
      "text/plain": [
       "FloatProgress(value=0.0, bar_style='info', description='Progress:', layout=Layout(height='25px', width='50%'),…"
      ]
     },
     "metadata": {},
     "output_type": "display_data"
    },
    {
     "name": "stdout",
     "output_type": "stream",
     "text": [
      "                             Title  NumRate   AvgRate\n",
      "ID                                                   \n",
      "1                        Toy Story       22  5.000000\n",
      "2                          Jumanji       20  3.200000\n",
      "3                 Grumpier Old Men       33  3.939394\n",
      "4                Waiting to Exhale       38  4.026316\n",
      "5      Father of the Bride Part II       87  3.850575\n",
      "...                            ...      ...       ...\n",
      "65088              Bedtime Stories       30  3.400000\n",
      "65091          Manhattan Melodrama       53  3.820755\n",
      "65126                        Choke       27  4.296296\n",
      "65130           Revolutionary Road       34  4.058824\n",
      "65133      Blackadder Back & Forth       27  3.518519\n",
      "\n",
      "[10404 rows x 3 columns]"
     ]
    }
   ],
   "source": [
    "df_correlationNumrateAvgrate.drop(['UserID', 'Rate'], inplace = True, axis = 1)\n",
    "df_correlationNumrateAvgrate.drop_duplicates(inplace = True)\n",
    "df_correlationNumrateAvgrate"
   ]
  },
  {
   "cell_type": "code",
   "execution_count": 34,
   "metadata": {},
   "outputs": [
    {
     "data": {
      "application/vnd.jupyter.widget-view+json": {
       "model_id": "9ec06c82f75d41dbabb5fc49d6d9bc8c",
       "version_major": 2,
       "version_minor": 0
      },
      "text/plain": [
       "VBox()"
      ]
     },
     "metadata": {},
     "output_type": "display_data"
    },
    {
     "data": {
      "application/vnd.jupyter.widget-view+json": {
       "model_id": "",
       "version_major": 2,
       "version_minor": 0
      },
      "text/plain": [
       "FloatProgress(value=0.0, bar_style='info', description='Progress:', layout=Layout(height='25px', width='50%'),…"
      ]
     },
     "metadata": {},
     "output_type": "display_data"
    },
    {
     "name": "stdout",
     "output_type": "stream",
     "text": [
      "Title       object\n",
      "NumRate      int64\n",
      "AvgRate    float64\n",
      "dtype: object"
     ]
    }
   ],
   "source": [
    "df_correlationNumrateAvgrate.dtypes"
   ]
  },
  {
   "cell_type": "code",
   "execution_count": 35,
   "metadata": {},
   "outputs": [
    {
     "data": {
      "application/vnd.jupyter.widget-view+json": {
       "model_id": "457aa812196c413a959adb6029e76139",
       "version_major": 2,
       "version_minor": 0
      },
      "text/plain": [
       "VBox()"
      ]
     },
     "metadata": {},
     "output_type": "display_data"
    },
    {
     "data": {
      "application/vnd.jupyter.widget-view+json": {
       "model_id": "",
       "version_major": 2,
       "version_minor": 0
      },
      "text/plain": [
       "FloatProgress(value=0.0, bar_style='info', description='Progress:', layout=Layout(height='25px', width='50%'),…"
      ]
     },
     "metadata": {},
     "output_type": "display_data"
    },
    {
     "name": "stdout",
     "output_type": "stream",
     "text": [
      "          NumRate   AvgRate\n",
      "NumRate  1.000000 -0.158309\n",
      "AvgRate -0.158309  1.000000"
     ]
    }
   ],
   "source": [
    "df_correlationNumrateAvgrate.corr(method = 'pearson')"
   ]
  },
  {
   "cell_type": "markdown",
   "metadata": {},
   "source": [
    "There is weak negative correlation between Number of rates and Average rate. Theoreticaly, if movie has more rates, the lower average rate is.\n",
    "\n",
    "However, result of correlation -0.158309 is close to 0, so we could assume that there is no correlation between Number of rates and Average rate of a movie."
   ]
  },
  {
   "cell_type": "markdown",
   "metadata": {},
   "source": [
    "## Correlation between average rate and year"
   ]
  },
  {
   "cell_type": "code",
   "execution_count": 36,
   "metadata": {},
   "outputs": [
    {
     "data": {
      "application/vnd.jupyter.widget-view+json": {
       "model_id": "98291114edfc46cebd7543a8139ef6e9",
       "version_major": 2,
       "version_minor": 0
      },
      "text/plain": [
       "VBox()"
      ]
     },
     "metadata": {},
     "output_type": "display_data"
    },
    {
     "data": {
      "application/vnd.jupyter.widget-view+json": {
       "model_id": "",
       "version_major": 2,
       "version_minor": 0
      },
      "text/plain": [
       "FloatProgress(value=0.0, bar_style='info', description='Progress:', layout=Layout(height='25px', width='50%'),…"
      ]
     },
     "metadata": {},
     "output_type": "display_data"
    },
    {
     "name": "stdout",
     "output_type": "stream",
     "text": [
      "       Title  ID  UserID  Rate\n",
      "0  Toy Story   1     122   5.0\n",
      "1  Toy Story   1     185   5.0"
     ]
    }
   ],
   "source": [
    "df_correlationAvgrateYear = df_moviesAndRates.reset_index()\n",
    "df_correlationAvgrateYear.head(2)"
   ]
  },
  {
   "cell_type": "code",
   "execution_count": 37,
   "metadata": {},
   "outputs": [
    {
     "data": {
      "application/vnd.jupyter.widget-view+json": {
       "model_id": "c19a295e18e142ef8b9249aa12e56db1",
       "version_major": 2,
       "version_minor": 0
      },
      "text/plain": [
       "VBox()"
      ]
     },
     "metadata": {},
     "output_type": "display_data"
    },
    {
     "data": {
      "application/vnd.jupyter.widget-view+json": {
       "model_id": "",
       "version_major": 2,
       "version_minor": 0
      },
      "text/plain": [
       "FloatProgress(value=0.0, bar_style='info', description='Progress:', layout=Layout(height='25px', width='50%'),…"
      ]
     },
     "metadata": {},
     "output_type": "display_data"
    },
    {
     "name": "stdout",
     "output_type": "stream",
     "text": [
      "   ID  Rate\n",
      "0   1   5.0\n",
      "1   1   5.0"
     ]
    }
   ],
   "source": [
    "df_correlationAvgrateYear.drop(['Title', 'UserID'], inplace = True, axis = 1)\n",
    "df_correlationAvgrateYear.head(2)"
   ]
  },
  {
   "cell_type": "code",
   "execution_count": 38,
   "metadata": {},
   "outputs": [
    {
     "data": {
      "application/vnd.jupyter.widget-view+json": {
       "model_id": "ffc17dc2febf456da57e550732011c08",
       "version_major": 2,
       "version_minor": 0
      },
      "text/plain": [
       "VBox()"
      ]
     },
     "metadata": {},
     "output_type": "display_data"
    },
    {
     "data": {
      "application/vnd.jupyter.widget-view+json": {
       "model_id": "",
       "version_major": 2,
       "version_minor": 0
      },
      "text/plain": [
       "FloatProgress(value=0.0, bar_style='info', description='Progress:', layout=Layout(height='25px', width='50%'),…"
      ]
     },
     "metadata": {},
     "output_type": "display_data"
    },
    {
     "name": "stdout",
     "output_type": "stream",
     "text": [
      "        Rate\n",
      "ID          \n",
      "1   5.000000\n",
      "2   3.200000\n",
      "3   3.939394\n",
      "4   4.026316\n",
      "5   3.850575"
     ]
    }
   ],
   "source": [
    "df_correlationAvgrateYear = df_correlationAvgrateYear.groupby('ID').mean()\n",
    "df_correlationAvgrateYear.head()"
   ]
  },
  {
   "cell_type": "code",
   "execution_count": 39,
   "metadata": {},
   "outputs": [
    {
     "data": {
      "application/vnd.jupyter.widget-view+json": {
       "model_id": "83763046373c49baade2946464da4b7a",
       "version_major": 2,
       "version_minor": 0
      },
      "text/plain": [
       "VBox()"
      ]
     },
     "metadata": {},
     "output_type": "display_data"
    },
    {
     "data": {
      "application/vnd.jupyter.widget-view+json": {
       "model_id": "",
       "version_major": 2,
       "version_minor": 0
      },
      "text/plain": [
       "FloatProgress(value=0.0, bar_style='info', description='Progress:', layout=Layout(height='25px', width='50%'),…"
      ]
     },
     "metadata": {},
     "output_type": "display_data"
    },
    {
     "name": "stdout",
     "output_type": "stream",
     "text": [
      "   ID      Rate  Year\n",
      "0   1  5.000000  1995\n",
      "1   2  3.200000  1995\n",
      "2   3  3.939394  1995\n",
      "3   4  4.026316  1995\n",
      "4   5  3.850575  1995"
     ]
    }
   ],
   "source": [
    "df_correlationAvgrateYear = df_correlationAvgrateYear.join(df_movieLens['Year']).reset_index()\n",
    "df_correlationAvgrateYear.head()"
   ]
  },
  {
   "cell_type": "code",
   "execution_count": 40,
   "metadata": {},
   "outputs": [
    {
     "data": {
      "application/vnd.jupyter.widget-view+json": {
       "model_id": "888a85d5b8a34158a8499ddecdbb4145",
       "version_major": 2,
       "version_minor": 0
      },
      "text/plain": [
       "VBox()"
      ]
     },
     "metadata": {},
     "output_type": "display_data"
    },
    {
     "data": {
      "application/vnd.jupyter.widget-view+json": {
       "model_id": "",
       "version_major": 2,
       "version_minor": 0
      },
      "text/plain": [
       "FloatProgress(value=0.0, bar_style='info', description='Progress:', layout=Layout(height='25px', width='50%'),…"
      ]
     },
     "metadata": {},
     "output_type": "display_data"
    },
    {
     "name": "stdout",
     "output_type": "stream",
     "text": [
      "            ID      Rate      Year\n",
      "ID    1.000000 -0.008909  0.198439\n",
      "Rate -0.008909  1.000000  0.011901\n",
      "Year  0.198439  0.011901  1.000000\n",
      "   ID      Rate  Year\n",
      "0   1  5.000000  1995\n",
      "1   2  3.200000  1995\n",
      "2   3  3.939394  1995\n",
      "3   4  4.026316  1995\n",
      "4   5  3.850575  1995"
     ]
    }
   ],
   "source": [
    "print(df_correlationAvgrateYear.corr(method = 'pearson'))\n",
    "print(df_correlationAvgrateYear.head())"
   ]
  },
  {
   "cell_type": "markdown",
   "metadata": {},
   "source": [
    "As you can see, there is weak positive correlation between Average Rate and Release Year.\n",
    "Theoreticaly, if movie was released later (eg. 2005 vs 2010) the better average rate is.\n",
    "\n",
    "However, result of correlation _0.011901_ is very close to _0_, so we simply just say that there is no correlation between Average Rate and Relese Year of a movie."
   ]
  }
 ],
 "metadata": {
  "kernelspec": {
   "display_name": "PySpark",
   "language": "",
   "name": "pysparkkernel"
  },
  "language_info": {
   "codemirror_mode": {
    "name": "python",
    "version": 2
   },
   "mimetype": "text/x-python",
   "name": "pyspark",
   "pygments_lexer": "python2"
  }
 },
 "nbformat": 4,
 "nbformat_minor": 4
}
