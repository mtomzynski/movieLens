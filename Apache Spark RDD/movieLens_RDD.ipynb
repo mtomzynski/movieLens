{
 "cells": [
  {
   "cell_type": "code",
   "execution_count": 1,
   "metadata": {},
   "outputs": [
    {
     "data": {
      "application/vnd.jupyter.widget-view+json": {
       "model_id": "5f4d23e6bb274bd3abb1f0d108ce4fa9",
       "version_major": 2,
       "version_minor": 0
      },
      "text/plain": [
       "VBox()"
      ]
     },
     "metadata": {},
     "output_type": "display_data"
    },
    {
     "name": "stdout",
     "output_type": "stream",
     "text": [
      "Starting Spark application\n"
     ]
    },
    {
     "data": {
      "text/html": [
       "<table>\n",
       "<tr><th>ID</th><th>YARN Application ID</th><th>Kind</th><th>State</th><th>Spark UI</th><th>Driver log</th><th>Current session?</th></tr><tr><td>11</td><td>application_1599465122176_0013</td><td>pyspark</td><td>idle</td><td><a target=\"_blank\" href=\"http://ip-172-31-45-67.ec2.internal:20888/proxy/application_1599465122176_0013/\">Link</a></td><td><a target=\"_blank\" href=\"http://ip-172-31-44-146.ec2.internal:8042/node/containerlogs/container_1599465122176_0013_01_000001/livy\">Link</a></td><td>✔</td></tr></table>"
      ],
      "text/plain": [
       "<IPython.core.display.HTML object>"
      ]
     },
     "metadata": {},
     "output_type": "display_data"
    },
    {
     "data": {
      "application/vnd.jupyter.widget-view+json": {
       "model_id": "",
       "version_major": 2,
       "version_minor": 0
      },
      "text/plain": [
       "FloatProgress(value=0.0, bar_style='info', description='Progress:', layout=Layout(height='25px', width='50%'),…"
      ]
     },
     "metadata": {},
     "output_type": "display_data"
    },
    {
     "name": "stdout",
     "output_type": "stream",
     "text": [
      "SparkSession available as 'spark'.\n"
     ]
    },
    {
     "data": {
      "application/vnd.jupyter.widget-view+json": {
       "model_id": "",
       "version_major": 2,
       "version_minor": 0
      },
      "text/plain": [
       "FloatProgress(value=0.0, bar_style='info', description='Progress:', layout=Layout(height='25px', width='50%'),…"
      ]
     },
     "metadata": {},
     "output_type": "display_data"
    }
   ],
   "source": [
    "import pyspark\n",
    "sc = pyspark.SparkContext.getOrCreate()"
   ]
  },
  {
   "cell_type": "code",
   "execution_count": 2,
   "metadata": {},
   "outputs": [
    {
     "data": {
      "application/vnd.jupyter.widget-view+json": {
       "model_id": "6892aa7e44314a1e98fd82463aeecddc",
       "version_major": 2,
       "version_minor": 0
      },
      "text/plain": [
       "VBox()"
      ]
     },
     "metadata": {},
     "output_type": "display_data"
    },
    {
     "data": {
      "application/vnd.jupyter.widget-view+json": {
       "model_id": "",
       "version_major": 2,
       "version_minor": 0
      },
      "text/plain": [
       "FloatProgress(value=0.0, bar_style='info', description='Progress:', layout=Layout(height='25px', width='50%'),…"
      ]
     },
     "metadata": {},
     "output_type": "display_data"
    }
   ],
   "source": [
    "moviesAndRates_RDD = sc.textFile(\"s3://movielens-dataset-bucket/moviesAndRates.csv\")"
   ]
  },
  {
   "cell_type": "code",
   "execution_count": 3,
   "metadata": {},
   "outputs": [
    {
     "data": {
      "application/vnd.jupyter.widget-view+json": {
       "model_id": "ce19488291794991af86770c80273898",
       "version_major": 2,
       "version_minor": 0
      },
      "text/plain": [
       "VBox()"
      ]
     },
     "metadata": {},
     "output_type": "display_data"
    },
    {
     "data": {
      "application/vnd.jupyter.widget-view+json": {
       "model_id": "",
       "version_major": 2,
       "version_minor": 0
      },
      "text/plain": [
       "FloatProgress(value=0.0, bar_style='info', description='Progress:', layout=Layout(height='25px', width='50%'),…"
      ]
     },
     "metadata": {},
     "output_type": "display_data"
    },
    {
     "name": "stdout",
     "output_type": "stream",
     "text": [
      "['ID,Title,Year,(no genres listed),Action,Adventure,Animation,Children,Comedy,Crime,Documentary,Drama,Fantasy,Film-Noir,Horror,IMAX,Musical,Mystery,Romance,Sci-Fi,Thriller,War,Western,UserID,Rate,Timestamp', '1,Toy Story,1995,0,0,1,1,1,1,0,0,0,1,0,0,0,0,0,0,0,0,0,0,122,5.0,1996-08-02 11:24:06', '1,Toy Story,1995,0,0,1,1,1,1,0,0,0,1,0,0,0,0,0,0,0,0,0,0,185,5.0,1996-08-02 10:58:45', '1,Toy Story,1995,0,0,1,1,1,1,0,0,0,1,0,0,0,0,0,0,0,0,0,0,231,5.0,1996-08-02 10:56:32', '1,Toy Story,1995,0,0,1,1,1,1,0,0,0,1,0,0,0,0,0,0,0,0,0,0,292,5.0,1996-08-02 10:57:01']"
     ]
    }
   ],
   "source": [
    "moviesAndRates_RDD.take(5)"
   ]
  },
  {
   "cell_type": "code",
   "execution_count": 4,
   "metadata": {},
   "outputs": [
    {
     "data": {
      "application/vnd.jupyter.widget-view+json": {
       "model_id": "b1f3f02054a1496b950170740dcae61d",
       "version_major": 2,
       "version_minor": 0
      },
      "text/plain": [
       "VBox()"
      ]
     },
     "metadata": {},
     "output_type": "display_data"
    },
    {
     "data": {
      "application/vnd.jupyter.widget-view+json": {
       "model_id": "",
       "version_major": 2,
       "version_minor": 0
      },
      "text/plain": [
       "FloatProgress(value=0.0, bar_style='info', description='Progress:', layout=Layout(height='25px', width='50%'),…"
      ]
     },
     "metadata": {},
     "output_type": "display_data"
    },
    {
     "name": "stdout",
     "output_type": "stream",
     "text": [
      "[['ID', 'Title', 'Year', '(no genres listed)', 'Action', 'Adventure', 'Animation', 'Children', 'Comedy', 'Crime', 'Documentary', 'Drama', 'Fantasy', 'Film-Noir', 'Horror', 'IMAX', 'Musical', 'Mystery', 'Romance', 'Sci-Fi', 'Thriller', 'War', 'Western', 'UserID', 'Rate', 'Timestamp'], ['1', 'Toy Story', '1995', '0', '0', '1', '1', '1', '1', '0', '0', '0', '1', '0', '0', '0', '0', '0', '0', '0', '0', '0', '0', '122', '5.0', '1996-08-02 11:24:06'], ['1', 'Toy Story', '1995', '0', '0', '1', '1', '1', '1', '0', '0', '0', '1', '0', '0', '0', '0', '0', '0', '0', '0', '0', '0', '185', '5.0', '1996-08-02 10:58:45'], ['1', 'Toy Story', '1995', '0', '0', '1', '1', '1', '1', '0', '0', '0', '1', '0', '0', '0', '0', '0', '0', '0', '0', '0', '0', '231', '5.0', '1996-08-02 10:56:32'], ['1', 'Toy Story', '1995', '0', '0', '1', '1', '1', '1', '0', '0', '0', '1', '0', '0', '0', '0', '0', '0', '0', '0', '0', '0', '292', '5.0', '1996-08-02 10:57:01']]"
     ]
    }
   ],
   "source": [
    "moviesAndRates_RDD.map(lambda x: x.split(\",\")).take(5)"
   ]
  },
  {
   "cell_type": "markdown",
   "metadata": {},
   "source": [
    "I'll create RDD that include elements as dictionaries. Schema of dictionaries are:\n",
    "- 'ID' : \"int\"\n",
    "- 'Title' : \"string\"\n",
    "- 'Year' : \"int\"\n",
    "- '(no genres listed)' : \"int\"\n",
    "- 'Action' : \"int\"\n",
    "- 'Adventure' : \"int\"\n",
    "- 'Animation' : \"int\"\n",
    "- 'Children' : \"int\"\n",
    "- 'Comedy' : \"int\"\n",
    "- 'Crime' : \"int\"\n",
    "- 'Documentary' : \"int\"\n",
    "- 'Drama' : \"int\"\n",
    "- 'Fantasy' : \"int\"\n",
    "- 'Film-Noir' : \"int\"\n",
    "- 'Horror' : \"int\"\n",
    "- 'IMAX' : \"int\"\n",
    "- 'Musical' : \"int\"\n",
    "- 'Mystery' : \"int\"\n",
    "- 'Romance' : \"int\"\n",
    "- 'Sci-Fi' : \"int\"\n",
    "- 'Thriller' : \"int\"\n",
    "- 'War' : \"int\"\n",
    "- 'Western' : \"int\"\n",
    "- 'UserID' : \"int\"\n",
    "- 'Rate' : \"float\"\n",
    "- 'Timestamp' : \"datetime\""
   ]
  },
  {
   "cell_type": "code",
   "execution_count": 5,
   "metadata": {},
   "outputs": [
    {
     "data": {
      "application/vnd.jupyter.widget-view+json": {
       "model_id": "e864dfbd044346f4918e022f27d528f0",
       "version_major": 2,
       "version_minor": 0
      },
      "text/plain": [
       "VBox()"
      ]
     },
     "metadata": {},
     "output_type": "display_data"
    },
    {
     "data": {
      "application/vnd.jupyter.widget-view+json": {
       "model_id": "",
       "version_major": 2,
       "version_minor": 0
      },
      "text/plain": [
       "FloatProgress(value=0.0, bar_style='info', description='Progress:', layout=Layout(height='25px', width='50%'),…"
      ]
     },
     "metadata": {},
     "output_type": "display_data"
    }
   ],
   "source": [
    "structure = [\"int\"\n",
    "             ,\"string\"\n",
    "             ,\"int\"\n",
    "             ,\"int\"\n",
    "             ,\"int\"\n",
    "             ,\"int\"\n",
    "             ,\"int\"\n",
    "             ,\"int\"\n",
    "             ,\"int\"\n",
    "             ,\"int\"\n",
    "             ,\"int\"\n",
    "             ,\"int\"\n",
    "             ,\"int\"\n",
    "             ,\"int\"\n",
    "             ,\"int\"\n",
    "             ,\"int\"\n",
    "             ,\"int\"\n",
    "             ,\"int\"\n",
    "             ,\"int\"\n",
    "             ,\"int\"\n",
    "             ,\"int\"\n",
    "             ,\"int\"\n",
    "             ,\"int\"\n",
    "             ,\"int\"\n",
    "             ,\"float\"\n",
    "             ,\"datetime\"]"
   ]
  },
  {
   "cell_type": "code",
   "execution_count": 6,
   "metadata": {},
   "outputs": [
    {
     "data": {
      "application/vnd.jupyter.widget-view+json": {
       "model_id": "ee9b1cc39a32448190866fe6bf6f9f1d",
       "version_major": 2,
       "version_minor": 0
      },
      "text/plain": [
       "VBox()"
      ]
     },
     "metadata": {},
     "output_type": "display_data"
    },
    {
     "data": {
      "application/vnd.jupyter.widget-view+json": {
       "model_id": "",
       "version_major": 2,
       "version_minor": 0
      },
      "text/plain": [
       "FloatProgress(value=0.0, bar_style='info', description='Progress:', layout=Layout(height='25px', width='50%'),…"
      ]
     },
     "metadata": {},
     "output_type": "display_data"
    },
    {
     "name": "stdout",
     "output_type": "stream",
     "text": [
      "['ID', 'Title', 'Year', '(no genres listed)', 'Action', 'Adventure', 'Animation', 'Children', 'Comedy', 'Crime', 'Documentary', 'Drama', 'Fantasy', 'Film-Noir', 'Horror', 'IMAX', 'Musical', 'Mystery', 'Romance', 'Sci-Fi', 'Thriller', 'War', 'Western', 'UserID', 'Rate', 'Timestamp']"
     ]
    }
   ],
   "source": [
    "column_names = moviesAndRates_RDD \\\n",
    "                    .filter(lambda x: x.startswith(\"ID\")) \\\n",
    "                    .flatMap(lambda x: x.split(\",\")) \\\n",
    "                    .collect()\n",
    "\n",
    "column_names"
   ]
  },
  {
   "cell_type": "code",
   "execution_count": 7,
   "metadata": {},
   "outputs": [
    {
     "data": {
      "application/vnd.jupyter.widget-view+json": {
       "model_id": "d4ad8e427ca742c598fa37db72c74171",
       "version_major": 2,
       "version_minor": 0
      },
      "text/plain": [
       "VBox()"
      ]
     },
     "metadata": {},
     "output_type": "display_data"
    },
    {
     "data": {
      "application/vnd.jupyter.widget-view+json": {
       "model_id": "",
       "version_major": 2,
       "version_minor": 0
      },
      "text/plain": [
       "FloatProgress(value=0.0, bar_style='info', description='Progress:', layout=Layout(height='25px', width='50%'),…"
      ]
     },
     "metadata": {},
     "output_type": "display_data"
    }
   ],
   "source": [
    "dataToTransform = moviesAndRates_RDD.filter(lambda x: not x.startswith(\"ID\")).map(lambda x: x.split(\",\"))"
   ]
  },
  {
   "cell_type": "code",
   "execution_count": 8,
   "metadata": {},
   "outputs": [
    {
     "data": {
      "application/vnd.jupyter.widget-view+json": {
       "model_id": "e3b02faa6db147af9e95496355af3ba7",
       "version_major": 2,
       "version_minor": 0
      },
      "text/plain": [
       "VBox()"
      ]
     },
     "metadata": {},
     "output_type": "display_data"
    },
    {
     "data": {
      "application/vnd.jupyter.widget-view+json": {
       "model_id": "",
       "version_major": 2,
       "version_minor": 0
      },
      "text/plain": [
       "FloatProgress(value=0.0, bar_style='info', description='Progress:', layout=Layout(height='25px', width='50%'),…"
      ]
     },
     "metadata": {},
     "output_type": "display_data"
    },
    {
     "name": "stdout",
     "output_type": "stream",
     "text": [
      "['1', 'Toy Story', '1995', '0', '0', '1', '1', '1', '1', '0', '0', '0', '1', '0', '0', '0', '0', '0', '0', '0', '0', '0', '0', '122', '5.0', '1996-08-02 11:24:06']"
     ]
    }
   ],
   "source": [
    "dataToTransform.first()"
   ]
  },
  {
   "cell_type": "code",
   "execution_count": 9,
   "metadata": {},
   "outputs": [
    {
     "data": {
      "application/vnd.jupyter.widget-view+json": {
       "model_id": "a4a5e441cac84bf1b9a662c779a13578",
       "version_major": 2,
       "version_minor": 0
      },
      "text/plain": [
       "VBox()"
      ]
     },
     "metadata": {},
     "output_type": "display_data"
    },
    {
     "data": {
      "application/vnd.jupyter.widget-view+json": {
       "model_id": "",
       "version_major": 2,
       "version_minor": 0
      },
      "text/plain": [
       "FloatProgress(value=0.0, bar_style='info', description='Progress:', layout=Layout(height='25px', width='50%'),…"
      ]
     },
     "metadata": {},
     "output_type": "display_data"
    }
   ],
   "source": [
    "from datetime import datetime\n",
    "\n",
    "def transfor_to_dict_rdd(rdd_to_transform, schema, columns):\n",
    "    result_dictionary = dict()\n",
    "    \n",
    "    for element, element_type, column in zip(rdd_to_transform, schema, columns):\n",
    "        if element_type == \"int\":\n",
    "            element = int(element)\n",
    "        elif element_type == \"float\":\n",
    "            element = float(element)\n",
    "        elif element_type == \"datetime\":\n",
    "            element = datetime.strptime(element, \"%Y-%m-%d %H:%M:%S\")\n",
    "        else:\n",
    "            element\n",
    "        result_dictionary[column] = element\n",
    "    return result_dictionary"
   ]
  },
  {
   "cell_type": "code",
   "execution_count": 10,
   "metadata": {},
   "outputs": [
    {
     "data": {
      "application/vnd.jupyter.widget-view+json": {
       "model_id": "ff0f16efaf4842e4b6db948d43640848",
       "version_major": 2,
       "version_minor": 0
      },
      "text/plain": [
       "VBox()"
      ]
     },
     "metadata": {},
     "output_type": "display_data"
    },
    {
     "data": {
      "application/vnd.jupyter.widget-view+json": {
       "model_id": "",
       "version_major": 2,
       "version_minor": 0
      },
      "text/plain": [
       "FloatProgress(value=0.0, bar_style='info', description='Progress:', layout=Layout(height='25px', width='50%'),…"
      ]
     },
     "metadata": {},
     "output_type": "display_data"
    },
    {
     "name": "stdout",
     "output_type": "stream",
     "text": [
      "{'ID': 1, 'Title': 'Toy Story', 'Year': 1995, '(no genres listed)': 0, 'Action': 0, 'Adventure': 1, 'Animation': 1, 'Children': 1, 'Comedy': 1, 'Crime': 0, 'Documentary': 0, 'Drama': 0, 'Fantasy': 1, 'Film-Noir': 0, 'Horror': 0, 'IMAX': 0, 'Musical': 0, 'Mystery': 0, 'Romance': 0, 'Sci-Fi': 0, 'Thriller': 0, 'War': 0, 'Western': 0, 'UserID': 122, 'Rate': 5.0, 'Timestamp': datetime.datetime(1996, 8, 2, 11, 24, 6)}"
     ]
    }
   ],
   "source": [
    "transfor_to_dict_rdd(dataToTransform.first(), structure, column_names)"
   ]
  },
  {
   "cell_type": "code",
   "execution_count": 11,
   "metadata": {},
   "outputs": [
    {
     "data": {
      "application/vnd.jupyter.widget-view+json": {
       "model_id": "36b1e0cf6ee148e4a00c3252cba46679",
       "version_major": 2,
       "version_minor": 0
      },
      "text/plain": [
       "VBox()"
      ]
     },
     "metadata": {},
     "output_type": "display_data"
    },
    {
     "data": {
      "application/vnd.jupyter.widget-view+json": {
       "model_id": "",
       "version_major": 2,
       "version_minor": 0
      },
      "text/plain": [
       "FloatProgress(value=0.0, bar_style='info', description='Progress:', layout=Layout(height='25px', width='50%'),…"
      ]
     },
     "metadata": {},
     "output_type": "display_data"
    }
   ],
   "source": [
    "moviesAndRates_RDD = dataToTransform.map(lambda x: transfor_to_dict_rdd(x, structure, column_names))"
   ]
  },
  {
   "cell_type": "code",
   "execution_count": 12,
   "metadata": {},
   "outputs": [
    {
     "data": {
      "application/vnd.jupyter.widget-view+json": {
       "model_id": "c0b15f8e0f814db3aed185de5bdb5581",
       "version_major": 2,
       "version_minor": 0
      },
      "text/plain": [
       "VBox()"
      ]
     },
     "metadata": {},
     "output_type": "display_data"
    },
    {
     "data": {
      "application/vnd.jupyter.widget-view+json": {
       "model_id": "",
       "version_major": 2,
       "version_minor": 0
      },
      "text/plain": [
       "FloatProgress(value=0.0, bar_style='info', description='Progress:', layout=Layout(height='25px', width='50%'),…"
      ]
     },
     "metadata": {},
     "output_type": "display_data"
    },
    {
     "name": "stdout",
     "output_type": "stream",
     "text": [
      "[{'ID': 1, 'Title': 'Toy Story', 'Year': 1995, '(no genres listed)': 0, 'Action': 0, 'Adventure': 1, 'Animation': 1, 'Children': 1, 'Comedy': 1, 'Crime': 0, 'Documentary': 0, 'Drama': 0, 'Fantasy': 1, 'Film-Noir': 0, 'Horror': 0, 'IMAX': 0, 'Musical': 0, 'Mystery': 0, 'Romance': 0, 'Sci-Fi': 0, 'Thriller': 0, 'War': 0, 'Western': 0, 'UserID': 122, 'Rate': 5.0, 'Timestamp': datetime.datetime(1996, 8, 2, 11, 24, 6)}, {'ID': 1, 'Title': 'Toy Story', 'Year': 1995, '(no genres listed)': 0, 'Action': 0, 'Adventure': 1, 'Animation': 1, 'Children': 1, 'Comedy': 1, 'Crime': 0, 'Documentary': 0, 'Drama': 0, 'Fantasy': 1, 'Film-Noir': 0, 'Horror': 0, 'IMAX': 0, 'Musical': 0, 'Mystery': 0, 'Romance': 0, 'Sci-Fi': 0, 'Thriller': 0, 'War': 0, 'Western': 0, 'UserID': 185, 'Rate': 5.0, 'Timestamp': datetime.datetime(1996, 8, 2, 10, 58, 45)}, {'ID': 1, 'Title': 'Toy Story', 'Year': 1995, '(no genres listed)': 0, 'Action': 0, 'Adventure': 1, 'Animation': 1, 'Children': 1, 'Comedy': 1, 'Crime': 0, 'Documentary': 0, 'Drama': 0, 'Fantasy': 1, 'Film-Noir': 0, 'Horror': 0, 'IMAX': 0, 'Musical': 0, 'Mystery': 0, 'Romance': 0, 'Sci-Fi': 0, 'Thriller': 0, 'War': 0, 'Western': 0, 'UserID': 231, 'Rate': 5.0, 'Timestamp': datetime.datetime(1996, 8, 2, 10, 56, 32)}, {'ID': 1, 'Title': 'Toy Story', 'Year': 1995, '(no genres listed)': 0, 'Action': 0, 'Adventure': 1, 'Animation': 1, 'Children': 1, 'Comedy': 1, 'Crime': 0, 'Documentary': 0, 'Drama': 0, 'Fantasy': 1, 'Film-Noir': 0, 'Horror': 0, 'IMAX': 0, 'Musical': 0, 'Mystery': 0, 'Romance': 0, 'Sci-Fi': 0, 'Thriller': 0, 'War': 0, 'Western': 0, 'UserID': 292, 'Rate': 5.0, 'Timestamp': datetime.datetime(1996, 8, 2, 10, 57, 1)}, {'ID': 1, 'Title': 'Toy Story', 'Year': 1995, '(no genres listed)': 0, 'Action': 0, 'Adventure': 1, 'Animation': 1, 'Children': 1, 'Comedy': 1, 'Crime': 0, 'Documentary': 0, 'Drama': 0, 'Fantasy': 1, 'Film-Noir': 0, 'Horror': 0, 'IMAX': 0, 'Musical': 0, 'Mystery': 0, 'Romance': 0, 'Sci-Fi': 0, 'Thriller': 0, 'War': 0, 'Western': 0, 'UserID': 316, 'Rate': 5.0, 'Timestamp': datetime.datetime(1996, 8, 2, 10, 56, 32)}]"
     ]
    }
   ],
   "source": [
    "moviesAndRates_RDD.take(5)"
   ]
  },
  {
   "cell_type": "markdown",
   "metadata": {},
   "source": [
    "# Apache Spark RDD (AWS)"
   ]
  },
  {
   "cell_type": "markdown",
   "metadata": {},
   "source": [
    "### Average rate for each movie"
   ]
  },
  {
   "cell_type": "markdown",
   "metadata": {},
   "source": [
    "Let's see 25 the best rated movies."
   ]
  },
  {
   "cell_type": "code",
   "execution_count": 13,
   "metadata": {},
   "outputs": [
    {
     "data": {
      "application/vnd.jupyter.widget-view+json": {
       "model_id": "17f90ad110e74ea2a673a4fc665372ee",
       "version_major": 2,
       "version_minor": 0
      },
      "text/plain": [
       "VBox()"
      ]
     },
     "metadata": {},
     "output_type": "display_data"
    },
    {
     "data": {
      "application/vnd.jupyter.widget-view+json": {
       "model_id": "",
       "version_major": 2,
       "version_minor": 0
      },
      "text/plain": [
       "FloatProgress(value=0.0, bar_style='info', description='Progress:', layout=Layout(height='25px', width='50%'),…"
      ]
     },
     "metadata": {},
     "output_type": "display_data"
    },
    {
     "name": "stdout",
     "output_type": "stream",
     "text": [
      "[('From Beyond', 5.0), ('Layer Cake', 5.0), ('Toy Story', 5.0), ('Unforgotten: Twenty-Five Years After Willowbrook', 4.96), ('Red Corner', 4.96), ('Happy Weekend', 4.89), ('Making the Grade', 4.86), ('The Honeymooners', 4.82), ('The Texas Chainsaw Massacre: The Beginning', 4.82), ('Hotel Rwanda', 4.8), ('Surviving Picasso', 4.8), ('Lola', 4.78), ('Road to Perdition', 4.77), ('SSSSSSS', 4.77), ('Boys Life 3', 4.77), ('West Side Story', 4.71), ('Tokyo Fist (Tokyo ken)', 4.71), ('The Greatest Show on Earth', 4.7), ('Happy Gilmore', 4.68), ('Ariel', 4.68), ('The Swamp', 4.68), ('Stratosphere Girl', 4.67), ('In Like Flint', 4.66), ('Quick Change', 4.66), ('Morgan: A Suitable Case for Treatment', 4.66)]"
     ]
    }
   ],
   "source": [
    "moviesAndRates_RDD \\\n",
    "    .map(lambda x: (x[\"Title\"], x[\"Rate\"])) \\\n",
    "    .aggregateByKey((0., 0.) \\\n",
    "                    ,(lambda acc, x: (acc[0] + x, acc[1] + 1)) \\\n",
    "                    ,(lambda acc1, acc2: (acc1[0] + acc2[0], acc1[1] + acc2[1]))) \\\n",
    "    .mapValues(lambda x: round(x[0]/x[1], 2)) \\\n",
    "    .takeOrdered(25, lambda x: -x[1])"
   ]
  },
  {
   "cell_type": "markdown",
   "metadata": {},
   "source": [
    "Let's see 25 the worst rated movies."
   ]
  },
  {
   "cell_type": "code",
   "execution_count": 14,
   "metadata": {},
   "outputs": [
    {
     "data": {
      "application/vnd.jupyter.widget-view+json": {
       "model_id": "43292981b428421cbbae0fb682578bff",
       "version_major": 2,
       "version_minor": 0
      },
      "text/plain": [
       "VBox()"
      ]
     },
     "metadata": {},
     "output_type": "display_data"
    },
    {
     "data": {
      "application/vnd.jupyter.widget-view+json": {
       "model_id": "",
       "version_major": 2,
       "version_minor": 0
      },
      "text/plain": [
       "FloatProgress(value=0.0, bar_style='info', description='Progress:', layout=Layout(height='25px', width='50%'),…"
      ]
     },
     "metadata": {},
     "output_type": "display_data"
    },
    {
     "name": "stdout",
     "output_type": "stream",
     "text": [
      "[('Confidence', 0.79), ('The Country Girl', 0.95), ('Waking the Dead', 1.0), ('Holy Matrimony', 1.14), ('Coming Home', 1.25), ('At Close Range', 1.29), ('Andrei Rublev (Andrey Rublyov)', 1.31), ('The Promotion', 1.35), ('Hellhounds on My Trail', 1.4), ('Godzilla vs. The Sea Monster (Gojira-Ebira-Mosura: Nankai no daiketto)', 1.44), ('The Invisible Man Returns', 1.5), ('Mortal Kombat: Annihilation', 1.5), ('The Girl Cut in Two', 1.56), ('Big Business', 1.6), ('Charlotte Gray', 1.64), ('All the Real Girls', 1.65), ('Ring of Darkness', 1.67), ('Bend of the River', 1.7), ('The Stupids', 1.7), ('Late August. Early September (Fin août. début septembre)', 1.75), ('Zardoz', 1.83), ('Edge of Seventeen', 1.9), ('Short Circuit', 1.9), ('Around the Bend', 1.92), ('Confessions of a Burning Man', 1.93)]"
     ]
    }
   ],
   "source": [
    "moviesAndRates_RDD \\\n",
    "    .map(lambda x: (x[\"Title\"], x[\"Rate\"])) \\\n",
    "    .aggregateByKey((0., 0.) \\\n",
    "                    ,(lambda acc, x: (acc[0] + x, acc[1] + 1)) \\\n",
    "                    ,(lambda acc1, acc2: (acc1[0] + acc2[0], acc1[1] + acc2[1]))) \\\n",
    "    .mapValues(lambda x: round(x[0]/x[1], 2)) \\\n",
    "    .takeOrdered(25, lambda x: x[1])"
   ]
  },
  {
   "cell_type": "markdown",
   "metadata": {},
   "source": [
    "## Top 10s roulette"
   ]
  },
  {
   "cell_type": "markdown",
   "metadata": {},
   "source": [
    "### 10 oldest rated movie"
   ]
  },
  {
   "cell_type": "code",
   "execution_count": 15,
   "metadata": {},
   "outputs": [
    {
     "data": {
      "application/vnd.jupyter.widget-view+json": {
       "model_id": "3b0dcd4d82bd4f8180263c5276ce2362",
       "version_major": 2,
       "version_minor": 0
      },
      "text/plain": [
       "VBox()"
      ]
     },
     "metadata": {},
     "output_type": "display_data"
    },
    {
     "data": {
      "application/vnd.jupyter.widget-view+json": {
       "model_id": "",
       "version_major": 2,
       "version_minor": 0
      },
      "text/plain": [
       "FloatProgress(value=0.0, bar_style='info', description='Progress:', layout=Layout(height='25px', width='50%'),…"
      ]
     },
     "metadata": {},
     "output_type": "display_data"
    },
    {
     "name": "stdout",
     "output_type": "stream",
     "text": [
      "[('Why We Fight', datetime.date(1996, 2, 15)), ('The Weather Man', datetime.date(1996, 3, 1)), ('The Boys of Baraka', datetime.date(1996, 3, 14)), ('Three Times (Zui Hao De Shi Guang)', datetime.date(1996, 3, 25)), ('My Best Friend (Mon meilleur ami)', datetime.date(1996, 3, 28)), ('Hitman', datetime.date(1996, 3, 28)), ('Apollo 13', datetime.date(1996, 3, 29)), ('Heavyweights (a.k.a. Heavy Weights)', datetime.date(1996, 3, 29)), ('For Love or Money', datetime.date(1996, 3, 29)), ('The Spitfire Grill', datetime.date(1996, 3, 29))]"
     ]
    }
   ],
   "source": [
    "moviesAndRates_RDD \\\n",
    "    .map(lambda x: (x[\"Title\"], x[\"Timestamp\"])) \\\n",
    "    .groupBy(lambda x: x[0]) \\\n",
    "    .mapValues(lambda x: [y[1].date() for y in x]) \\\n",
    "    .mapValues(lambda x: min(x)) \\\n",
    "    .takeOrdered(10, lambda x: x[1])"
   ]
  },
  {
   "cell_type": "code",
   "execution_count": 16,
   "metadata": {},
   "outputs": [
    {
     "data": {
      "application/vnd.jupyter.widget-view+json": {
       "model_id": "879702b4f79c4ee684be7720f1d81ed7",
       "version_major": 2,
       "version_minor": 0
      },
      "text/plain": [
       "VBox()"
      ]
     },
     "metadata": {},
     "output_type": "display_data"
    },
    {
     "data": {
      "application/vnd.jupyter.widget-view+json": {
       "model_id": "",
       "version_major": 2,
       "version_minor": 0
      },
      "text/plain": [
       "FloatProgress(value=0.0, bar_style='info', description='Progress:', layout=Layout(height='25px', width='50%'),…"
      ]
     },
     "metadata": {},
     "output_type": "display_data"
    },
    {
     "name": "stdout",
     "output_type": "stream",
     "text": [
      "[('Why We Fight', datetime.date(1996, 2, 15)), ('The Boys of Baraka', datetime.date(1996, 3, 14)), ('Three Times (Zui Hao De Shi Guang)', datetime.date(1996, 3, 25)), ('Hitman', datetime.date(1996, 3, 28)), ('My Best Friend (Mon meilleur ami)', datetime.date(1996, 3, 28)), ('Heavyweights (a.k.a. Heavy Weights)', datetime.date(1996, 3, 29)), ('For Love or Money', datetime.date(1996, 3, 29)), ('Spawn', datetime.date(1996, 3, 29)), ('Seven Samurai (Shichinin no samurai)', datetime.date(1996, 3, 29)), ('The Other Sister', datetime.date(1996, 3, 29))]"
     ]
    }
   ],
   "source": [
    "moviesAndRates_RDD \\\n",
    "    .map(lambda x: (x[\"Title\"], x[\"Timestamp\"])) \\\n",
    "    .groupBy(lambda x: x[0]) \\\n",
    "    .mapValues(lambda x: [y[1].date() for y in x]) \\\n",
    "    .sortBy(lambda x: x[1], True) \\\n",
    "    .mapValues(lambda x: min(x)) \\\n",
    "    .take(10)"
   ]
  },
  {
   "cell_type": "markdown",
   "metadata": {},
   "source": [
    "### 10 newest rated movie"
   ]
  },
  {
   "cell_type": "code",
   "execution_count": 17,
   "metadata": {},
   "outputs": [
    {
     "data": {
      "application/vnd.jupyter.widget-view+json": {
       "model_id": "e294e12add4346a4a0033ecbdcdc25cb",
       "version_major": 2,
       "version_minor": 0
      },
      "text/plain": [
       "VBox()"
      ]
     },
     "metadata": {},
     "output_type": "display_data"
    },
    {
     "data": {
      "application/vnd.jupyter.widget-view+json": {
       "model_id": "",
       "version_major": 2,
       "version_minor": 0
      },
      "text/plain": [
       "FloatProgress(value=0.0, bar_style='info', description='Progress:', layout=Layout(height='25px', width='50%'),…"
      ]
     },
     "metadata": {},
     "output_type": "display_data"
    },
    {
     "name": "stdout",
     "output_type": "stream",
     "text": [
      "[('Guinea Pig: Flowers of Flesh and Blood (Za ginipiggu 2: Chiniku no hana)', datetime.date(2009, 1, 5)), ('The Love of Siam', datetime.date(2009, 1, 4)), ('Martyrs', datetime.date(2009, 1, 4)), ('Max Payne', datetime.date(2009, 1, 3)), ('Let the Right One In (Låt den rätte komma in)', datetime.date(2009, 1, 5)), ('Henry Poole is Here', datetime.date(2008, 12, 30)), ('Saints and Soldiers', datetime.date(2008, 12, 30)), ('Frozen River', datetime.date(2008, 12, 29)), ('Moving McAllister', datetime.date(2008, 12, 31)), ('Gonzo: The Life and Work of Dr. Hunter S. Thompson', datetime.date(2008, 12, 28))]"
     ]
    }
   ],
   "source": [
    "moviesAndRates_RDD \\\n",
    "    .map(lambda x: (x[\"Title\"], x[\"Timestamp\"])) \\\n",
    "    .groupBy(lambda x: x[0]) \\\n",
    "    .mapValues(lambda x: [y[1].date() for y in x]) \\\n",
    "    .sortBy(lambda x: x[1], False) \\\n",
    "    .mapValues(lambda x: max(x)) \\\n",
    "    .take(10)"
   ]
  },
  {
   "cell_type": "markdown",
   "metadata": {},
   "source": [
    "### 10 most rated movie"
   ]
  },
  {
   "cell_type": "markdown",
   "metadata": {},
   "source": [
    "Thanks for cleaning up data before, I know that there are no empty values in the dataset. So in this case, we need just to count rows per movie."
   ]
  },
  {
   "cell_type": "code",
   "execution_count": 18,
   "metadata": {},
   "outputs": [
    {
     "data": {
      "application/vnd.jupyter.widget-view+json": {
       "model_id": "c1e712f28fcc4bfe8434302efb23dd3f",
       "version_major": 2,
       "version_minor": 0
      },
      "text/plain": [
       "VBox()"
      ]
     },
     "metadata": {},
     "output_type": "display_data"
    },
    {
     "data": {
      "application/vnd.jupyter.widget-view+json": {
       "model_id": "",
       "version_major": 2,
       "version_minor": 0
      },
      "text/plain": [
       "FloatProgress(value=0.0, bar_style='info', description='Progress:', layout=Layout(height='25px', width='50%'),…"
      ]
     },
     "metadata": {},
     "output_type": "display_data"
    },
    {
     "name": "stdout",
     "output_type": "stream",
     "text": [
      "[('The Other Side of Sunday', 4165), ('Dead End', 3509), ('Demonlover', 3414), ('Yu-Gi-Oh!', 3164), ('Character (Karakter)', 2529), ('Morocco', 2345), ('Mean Machine', 2337), ('Formula 51', 2152), ('The Pickle', 2113), ('The General', 2002)]"
     ]
    }
   ],
   "source": [
    "moviesAndRates_RDD \\\n",
    "    .map(lambda x: (x[\"Title\"], 1)) \\\n",
    "    .reduceByKey(lambda x, y: x + y) \\\n",
    "    .takeOrdered(10, lambda x: -x[1])"
   ]
  },
  {
   "cell_type": "markdown",
   "metadata": {},
   "source": [
    "### 10 least rated movie"
   ]
  },
  {
   "cell_type": "code",
   "execution_count": 19,
   "metadata": {},
   "outputs": [
    {
     "data": {
      "application/vnd.jupyter.widget-view+json": {
       "model_id": "cb3ea8a73ae74653a591a83c166c4c0e",
       "version_major": 2,
       "version_minor": 0
      },
      "text/plain": [
       "VBox()"
      ]
     },
     "metadata": {},
     "output_type": "display_data"
    },
    {
     "data": {
      "application/vnd.jupyter.widget-view+json": {
       "model_id": "",
       "version_major": 2,
       "version_minor": 0
      },
      "text/plain": [
       "FloatProgress(value=0.0, bar_style='info', description='Progress:', layout=Layout(height='25px', width='50%'),…"
      ]
     },
     "metadata": {},
     "output_type": "display_data"
    },
    {
     "name": "stdout",
     "output_type": "stream",
     "text": [
      "[(\"Cheech & Chong's The Corsican Brothers\", 20), ('Ossessione', 20), ('Blood Work', 20), ('Crazy as Hell', 20), ('Shanghai Ghetto', 20), ('Fort Apache. the Bronx', 20), ('Modern Romance', 20), (\"My Father's Glory (Gloire de mon Père)\", 20), ('The Talk of the Town', 20), ('Pauline at the Beach (Pauline à la Plage)', 20)]"
     ]
    }
   ],
   "source": [
    "moviesAndRates_RDD \\\n",
    "    .map(lambda x: (x[\"Title\"], 1)) \\\n",
    "    .reduceByKey(lambda x, y: x + y) \\\n",
    "    .takeOrdered(10, lambda x: x[1])"
   ]
  }
 ],
 "metadata": {
  "kernelspec": {
   "display_name": "PySpark",
   "language": "",
   "name": "pysparkkernel"
  },
  "language_info": {
   "codemirror_mode": {
    "name": "python",
    "version": 2
   },
   "mimetype": "text/x-python",
   "name": "pyspark",
   "pygments_lexer": "python2"
  }
 },
 "nbformat": 4,
 "nbformat_minor": 4
}
