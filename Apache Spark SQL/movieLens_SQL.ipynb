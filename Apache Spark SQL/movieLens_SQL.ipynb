{
 "cells": [
  {
   "cell_type": "code",
   "execution_count": 1,
   "metadata": {},
   "outputs": [
    {
     "data": {
      "application/vnd.jupyter.widget-view+json": {
       "model_id": "2d3e8b348cd744238aa78e36a004916e",
       "version_major": 2,
       "version_minor": 0
      },
      "text/plain": [
       "VBox()"
      ]
     },
     "metadata": {},
     "output_type": "display_data"
    },
    {
     "name": "stdout",
     "output_type": "stream",
     "text": [
      "Starting Spark application\n"
     ]
    },
    {
     "data": {
      "text/html": [
       "<table>\n",
       "<tr><th>ID</th><th>YARN Application ID</th><th>Kind</th><th>State</th><th>Spark UI</th><th>Driver log</th><th>Current session?</th></tr><tr><td>2</td><td>application_1600111618676_0003</td><td>pyspark</td><td>idle</td><td><a target=\"_blank\" href=\"http://ip-172-31-1-215.ec2.internal:20888/proxy/application_1600111618676_0003/\">Link</a></td><td><a target=\"_blank\" href=\"http://ip-172-31-12-67.ec2.internal:8042/node/containerlogs/container_1600111618676_0003_01_000001/livy\">Link</a></td><td>✔</td></tr></table>"
      ],
      "text/plain": [
       "<IPython.core.display.HTML object>"
      ]
     },
     "metadata": {},
     "output_type": "display_data"
    },
    {
     "data": {
      "application/vnd.jupyter.widget-view+json": {
       "model_id": "",
       "version_major": 2,
       "version_minor": 0
      },
      "text/plain": [
       "FloatProgress(value=0.0, bar_style='info', description='Progress:', layout=Layout(height='25px', width='50%'),…"
      ]
     },
     "metadata": {},
     "output_type": "display_data"
    },
    {
     "name": "stdout",
     "output_type": "stream",
     "text": [
      "SparkSession available as 'spark'.\n"
     ]
    },
    {
     "data": {
      "application/vnd.jupyter.widget-view+json": {
       "model_id": "",
       "version_major": 2,
       "version_minor": 0
      },
      "text/plain": [
       "FloatProgress(value=0.0, bar_style='info', description='Progress:', layout=Layout(height='25px', width='50%'),…"
      ]
     },
     "metadata": {},
     "output_type": "display_data"
    }
   ],
   "source": [
    "import pyspark\n",
    "sc = pyspark.SparkContext.getOrCreate()"
   ]
  },
  {
   "cell_type": "code",
   "execution_count": 2,
   "metadata": {},
   "outputs": [
    {
     "data": {
      "application/vnd.jupyter.widget-view+json": {
       "model_id": "5848aea9759d4d6199efdebcdd6fdf7e",
       "version_major": 2,
       "version_minor": 0
      },
      "text/plain": [
       "VBox()"
      ]
     },
     "metadata": {},
     "output_type": "display_data"
    },
    {
     "data": {
      "application/vnd.jupyter.widget-view+json": {
       "model_id": "",
       "version_major": 2,
       "version_minor": 0
      },
      "text/plain": [
       "FloatProgress(value=0.0, bar_style='info', description='Progress:', layout=Layout(height='25px', width='50%'),…"
      ]
     },
     "metadata": {},
     "output_type": "display_data"
    }
   ],
   "source": [
    "moviesAndRates_DF = spark.read.csv(\"s3://movielens-dataset-bucket/moviesAndRates.csv\", \\\n",
    "                                   header = True, \\\n",
    "                                   inferSchema = True, \\\n",
    "                                   ignoreLeadingWhiteSpace = True)"
   ]
  },
  {
   "cell_type": "code",
   "execution_count": 3,
   "metadata": {},
   "outputs": [
    {
     "data": {
      "application/vnd.jupyter.widget-view+json": {
       "model_id": "446197e585fb4a7d92e5fb8ea5782a8c",
       "version_major": 2,
       "version_minor": 0
      },
      "text/plain": [
       "VBox()"
      ]
     },
     "metadata": {},
     "output_type": "display_data"
    },
    {
     "data": {
      "application/vnd.jupyter.widget-view+json": {
       "model_id": "",
       "version_major": 2,
       "version_minor": 0
      },
      "text/plain": [
       "FloatProgress(value=0.0, bar_style='info', description='Progress:', layout=Layout(height='25px', width='50%'),…"
      ]
     },
     "metadata": {},
     "output_type": "display_data"
    },
    {
     "name": "stdout",
     "output_type": "stream",
     "text": [
      "+---+---------+----+------------------+------+---------+---------+--------+------+-----+-----------+-----+-------+---------+------+----+-------+-------+-------+------+--------+---+-------+------+----+-------------------+\n",
      "| ID|    Title|Year|(no genres listed)|Action|Adventure|Animation|Children|Comedy|Crime|Documentary|Drama|Fantasy|Film-Noir|Horror|IMAX|Musical|Mystery|Romance|Sci-Fi|Thriller|War|Western|UserID|Rate|          Timestamp|\n",
      "+---+---------+----+------------------+------+---------+---------+--------+------+-----+-----------+-----+-------+---------+------+----+-------+-------+-------+------+--------+---+-------+------+----+-------------------+\n",
      "|  1|Toy Story|1995|                 0|     0|        1|        1|       1|     1|    0|          0|    0|      1|        0|     0|   0|      0|      0|      0|     0|       0|  0|      0|   122| 5.0|1996-08-02 11:24:06|\n",
      "|  1|Toy Story|1995|                 0|     0|        1|        1|       1|     1|    0|          0|    0|      1|        0|     0|   0|      0|      0|      0|     0|       0|  0|      0|   185| 5.0|1996-08-02 10:58:45|\n",
      "|  1|Toy Story|1995|                 0|     0|        1|        1|       1|     1|    0|          0|    0|      1|        0|     0|   0|      0|      0|      0|     0|       0|  0|      0|   231| 5.0|1996-08-02 10:56:32|\n",
      "+---+---------+----+------------------+------+---------+---------+--------+------+-----+-----------+-----+-------+---------+------+----+-------+-------+-------+------+--------+---+-------+------+----+-------------------+\n",
      "only showing top 3 rows"
     ]
    }
   ],
   "source": [
    "moviesAndRates_DF.show(3)"
   ]
  },
  {
   "cell_type": "markdown",
   "metadata": {},
   "source": [
    "ARRRRGH! What a mess! Let's show the data in vertical view."
   ]
  },
  {
   "cell_type": "code",
   "execution_count": 4,
   "metadata": {},
   "outputs": [
    {
     "data": {
      "application/vnd.jupyter.widget-view+json": {
       "model_id": "e5efeed2a7ac4321858e425ab3519642",
       "version_major": 2,
       "version_minor": 0
      },
      "text/plain": [
       "VBox()"
      ]
     },
     "metadata": {},
     "output_type": "display_data"
    },
    {
     "data": {
      "application/vnd.jupyter.widget-view+json": {
       "model_id": "",
       "version_major": 2,
       "version_minor": 0
      },
      "text/plain": [
       "FloatProgress(value=0.0, bar_style='info', description='Progress:', layout=Layout(height='25px', width='50%'),…"
      ]
     },
     "metadata": {},
     "output_type": "display_data"
    },
    {
     "name": "stdout",
     "output_type": "stream",
     "text": [
      "-RECORD 0---------------------------------\n",
      " ID                 | 1                   \n",
      " Title              | Toy Story           \n",
      " Year               | 1995                \n",
      " (no genres listed) | 0                   \n",
      " Action             | 0                   \n",
      " Adventure          | 1                   \n",
      " Animation          | 1                   \n",
      " Children           | 1                   \n",
      " Comedy             | 1                   \n",
      " Crime              | 0                   \n",
      " Documentary        | 0                   \n",
      " Drama              | 0                   \n",
      " Fantasy            | 1                   \n",
      " Film-Noir          | 0                   \n",
      " Horror             | 0                   \n",
      " IMAX               | 0                   \n",
      " Musical            | 0                   \n",
      " Mystery            | 0                   \n",
      " Romance            | 0                   \n",
      " Sci-Fi             | 0                   \n",
      " Thriller           | 0                   \n",
      " War                | 0                   \n",
      " Western            | 0                   \n",
      " UserID             | 122                 \n",
      " Rate               | 5.0                 \n",
      " Timestamp          | 1996-08-02 11:24:06 \n",
      "-RECORD 1---------------------------------\n",
      " ID                 | 1                   \n",
      " Title              | Toy Story           \n",
      " Year               | 1995                \n",
      " (no genres listed) | 0                   \n",
      " Action             | 0                   \n",
      " Adventure          | 1                   \n",
      " Animation          | 1                   \n",
      " Children           | 1                   \n",
      " Comedy             | 1                   \n",
      " Crime              | 0                   \n",
      " Documentary        | 0                   \n",
      " Drama              | 0                   \n",
      " Fantasy            | 1                   \n",
      " Film-Noir          | 0                   \n",
      " Horror             | 0                   \n",
      " IMAX               | 0                   \n",
      " Musical            | 0                   \n",
      " Mystery            | 0                   \n",
      " Romance            | 0                   \n",
      " Sci-Fi             | 0                   \n",
      " Thriller           | 0                   \n",
      " War                | 0                   \n",
      " Western            | 0                   \n",
      " UserID             | 185                 \n",
      " Rate               | 5.0                 \n",
      " Timestamp          | 1996-08-02 10:58:45 \n",
      "-RECORD 2---------------------------------\n",
      " ID                 | 1                   \n",
      " Title              | Toy Story           \n",
      " Year               | 1995                \n",
      " (no genres listed) | 0                   \n",
      " Action             | 0                   \n",
      " Adventure          | 1                   \n",
      " Animation          | 1                   \n",
      " Children           | 1                   \n",
      " Comedy             | 1                   \n",
      " Crime              | 0                   \n",
      " Documentary        | 0                   \n",
      " Drama              | 0                   \n",
      " Fantasy            | 1                   \n",
      " Film-Noir          | 0                   \n",
      " Horror             | 0                   \n",
      " IMAX               | 0                   \n",
      " Musical            | 0                   \n",
      " Mystery            | 0                   \n",
      " Romance            | 0                   \n",
      " Sci-Fi             | 0                   \n",
      " Thriller           | 0                   \n",
      " War                | 0                   \n",
      " Western            | 0                   \n",
      " UserID             | 231                 \n",
      " Rate               | 5.0                 \n",
      " Timestamp          | 1996-08-02 10:56:32 \n",
      "only showing top 3 rows"
     ]
    }
   ],
   "source": [
    "moviesAndRates_DF.show(3, vertical = True)"
   ]
  },
  {
   "cell_type": "markdown",
   "metadata": {},
   "source": [
    "In order to use DF in SQL query, it has to be registered."
   ]
  },
  {
   "cell_type": "code",
   "execution_count": 5,
   "metadata": {},
   "outputs": [
    {
     "data": {
      "application/vnd.jupyter.widget-view+json": {
       "model_id": "430bdc2a8d77424abe69c041c6f3abaa",
       "version_major": 2,
       "version_minor": 0
      },
      "text/plain": [
       "VBox()"
      ]
     },
     "metadata": {},
     "output_type": "display_data"
    },
    {
     "data": {
      "application/vnd.jupyter.widget-view+json": {
       "model_id": "",
       "version_major": 2,
       "version_minor": 0
      },
      "text/plain": [
       "FloatProgress(value=0.0, bar_style='info', description='Progress:', layout=Layout(height='25px', width='50%'),…"
      ]
     },
     "metadata": {},
     "output_type": "display_data"
    }
   ],
   "source": [
    "moviesAndRates_DF.createOrReplaceTempView(\"moviesAndRates\")"
   ]
  },
  {
   "cell_type": "code",
   "execution_count": 6,
   "metadata": {},
   "outputs": [
    {
     "data": {
      "application/vnd.jupyter.widget-view+json": {
       "model_id": "b52e918ae71c4114979a22479c6dfeaa",
       "version_major": 2,
       "version_minor": 0
      },
      "text/plain": [
       "VBox()"
      ]
     },
     "metadata": {},
     "output_type": "display_data"
    },
    {
     "data": {
      "application/vnd.jupyter.widget-view+json": {
       "model_id": "",
       "version_major": 2,
       "version_minor": 0
      },
      "text/plain": [
       "FloatProgress(value=0.0, bar_style='info', description='Progress:', layout=Layout(height='25px', width='50%'),…"
      ]
     },
     "metadata": {},
     "output_type": "display_data"
    },
    {
     "name": "stdout",
     "output_type": "stream",
     "text": [
      "+---+---------+----+------------------+------+---------+---------+--------+------+-----+-----------+-----+-------+---------+------+----+-------+-------+-------+------+--------+---+-------+------+----+-------------------+\n",
      "| ID|    Title|Year|(no genres listed)|Action|Adventure|Animation|Children|Comedy|Crime|Documentary|Drama|Fantasy|Film-Noir|Horror|IMAX|Musical|Mystery|Romance|Sci-Fi|Thriller|War|Western|UserID|Rate|          Timestamp|\n",
      "+---+---------+----+------------------+------+---------+---------+--------+------+-----+-----------+-----+-------+---------+------+----+-------+-------+-------+------+--------+---+-------+------+----+-------------------+\n",
      "|  1|Toy Story|1995|                 0|     0|        1|        1|       1|     1|    0|          0|    0|      1|        0|     0|   0|      0|      0|      0|     0|       0|  0|      0|   122| 5.0|1996-08-02 11:24:06|\n",
      "|  1|Toy Story|1995|                 0|     0|        1|        1|       1|     1|    0|          0|    0|      1|        0|     0|   0|      0|      0|      0|     0|       0|  0|      0|   185| 5.0|1996-08-02 10:58:45|\n",
      "+---+---------+----+------------------+------+---------+---------+--------+------+-----+-----------+-----+-------+---------+------+----+-------+-------+-------+------+--------+---+-------+------+----+-------------------+"
     ]
    }
   ],
   "source": [
    "spark.sql(\"select * from moviesAndRates limit 2\").show()"
   ]
  },
  {
   "cell_type": "markdown",
   "metadata": {},
   "source": [
    "### Top 10 movies (only those with more than 50 rates)"
   ]
  },
  {
   "cell_type": "code",
   "execution_count": 7,
   "metadata": {},
   "outputs": [
    {
     "data": {
      "application/vnd.jupyter.widget-view+json": {
       "model_id": "a95e8aa1651c474d82c9f5f860c9bb93",
       "version_major": 2,
       "version_minor": 0
      },
      "text/plain": [
       "VBox()"
      ]
     },
     "metadata": {},
     "output_type": "display_data"
    },
    {
     "data": {
      "application/vnd.jupyter.widget-view+json": {
       "model_id": "",
       "version_major": 2,
       "version_minor": 0
      },
      "text/plain": [
       "FloatProgress(value=0.0, bar_style='info', description='Progress:', layout=Layout(height='25px', width='50%'),…"
      ]
     },
     "metadata": {},
     "output_type": "display_data"
    },
    {
     "name": "stdout",
     "output_type": "stream",
     "text": [
      "+------------------------------------------+--------+\n",
      "|Title                                     |Avg_Rate|\n",
      "+------------------------------------------+--------+\n",
      "|Happy Weekend                             |4.89    |\n",
      "|The Texas Chainsaw Massacre: The Beginning|4.82    |\n",
      "|Hotel Rwanda                              |4.8     |\n",
      "|Lola                                      |4.78    |\n",
      "|Road to Perdition                         |4.77    |\n",
      "|SSSSSSS                                   |4.77    |\n",
      "|Tokyo Fist (Tokyo ken)                    |4.71    |\n",
      "|The Swamp                                 |4.68    |\n",
      "|Ariel                                     |4.68    |\n",
      "|Happy Gilmore                             |4.68    |\n",
      "+------------------------------------------+--------+"
     ]
    }
   ],
   "source": [
    "spark.sql(\"select Title, round(avg(Rate), 2) as Avg_Rate \"\n",
    "          \"from moviesAndRates \"\n",
    "          \"group by Title having count(Rate) > 50 \"\n",
    "          \"order by Avg_Rate desc \"\n",
    "          \"limit 10\").show(truncate = False)"
   ]
  },
  {
   "cell_type": "markdown",
   "metadata": {},
   "source": [
    "### Number of rates for each movie"
   ]
  },
  {
   "cell_type": "code",
   "execution_count": 8,
   "metadata": {},
   "outputs": [
    {
     "data": {
      "application/vnd.jupyter.widget-view+json": {
       "model_id": "3e1e92d855ea45a79fcc9afbc1495d19",
       "version_major": 2,
       "version_minor": 0
      },
      "text/plain": [
       "VBox()"
      ]
     },
     "metadata": {},
     "output_type": "display_data"
    },
    {
     "data": {
      "application/vnd.jupyter.widget-view+json": {
       "model_id": "",
       "version_major": 2,
       "version_minor": 0
      },
      "text/plain": [
       "FloatProgress(value=0.0, bar_style='info', description='Progress:', layout=Layout(height='25px', width='50%'),…"
      ]
     },
     "metadata": {},
     "output_type": "display_data"
    },
    {
     "name": "stdout",
     "output_type": "stream",
     "text": [
      "+-----------------------------+-----------+\n",
      "|Title                        |Count_Rates|\n",
      "+-----------------------------+-----------+\n",
      "|The Other Side of Sunday     |4165       |\n",
      "|Dead End                     |3509       |\n",
      "|Demonlover                   |3414       |\n",
      "|Yu-Gi-Oh!                    |3164       |\n",
      "|Character (Karakter)         |2529       |\n",
      "|Morocco                      |2345       |\n",
      "|Mean Machine                 |2337       |\n",
      "|Formula 51                   |2152       |\n",
      "|The Pickle                   |2113       |\n",
      "|The General                  |2002       |\n",
      "|The Sea Inside               |1969       |\n",
      "|Zoot Suit                    |1914       |\n",
      "|Hush... Hush. Sweet Charlotte|1833       |\n",
      "|Salome's Last Dance          |1776       |\n",
      "|For Sale (À Vendre)          |1731       |\n",
      "|Lethal Weapon 4              |1729       |\n",
      "|The Whole Nine Yards         |1727       |\n",
      "|Everyone's Hero              |1722       |\n",
      "|Allegro non Troppo           |1707       |\n",
      "|Vacancy                      |1682       |\n",
      "+-----------------------------+-----------+\n",
      "only showing top 20 rows"
     ]
    }
   ],
   "source": [
    "query = (\"select Title, count(Rate) as Count_Rates \"\n",
    "          \"from moviesAndRates \"\n",
    "          \"group by Title \"\n",
    "          \"order by Count_Rates desc\")\n",
    "\n",
    "spark.sql(query).show(20, truncate = False)"
   ]
  },
  {
   "cell_type": "markdown",
   "metadata": {},
   "source": [
    "### How many movies were assign to specific genre?"
   ]
  },
  {
   "cell_type": "markdown",
   "metadata": {},
   "source": [
    "I think that here we don't need full tabel. We just need one row from each movie, so columns 'UserID, 'Rate, 'Timestamp' could be dropped and get distinct row for each movie.\n",
    "\n",
    "I'll create another DF and register it."
   ]
  },
  {
   "cell_type": "code",
   "execution_count": 9,
   "metadata": {},
   "outputs": [
    {
     "data": {
      "application/vnd.jupyter.widget-view+json": {
       "model_id": "d123228a4ebb43699cf5ff9430f6ce19",
       "version_major": 2,
       "version_minor": 0
      },
      "text/plain": [
       "VBox()"
      ]
     },
     "metadata": {},
     "output_type": "display_data"
    },
    {
     "data": {
      "application/vnd.jupyter.widget-view+json": {
       "model_id": "",
       "version_major": 2,
       "version_minor": 0
      },
      "text/plain": [
       "FloatProgress(value=0.0, bar_style='info', description='Progress:', layout=Layout(height='25px', width='50%'),…"
      ]
     },
     "metadata": {},
     "output_type": "display_data"
    },
    {
     "name": "stdout",
     "output_type": "stream",
     "text": [
      "['ID', 'Title', 'Year', '(no genres listed)', 'Action', 'Adventure', 'Animation', 'Children', 'Comedy', 'Crime', 'Documentary', 'Drama', 'Fantasy', 'Film-Noir', 'Horror', 'IMAX', 'Musical', 'Mystery', 'Romance', 'Sci-Fi', 'Thriller', 'War', 'Western', 'UserID', 'Rate', 'Timestamp']"
     ]
    }
   ],
   "source": [
    "columns = moviesAndRates_DF.columns\n",
    "columns"
   ]
  },
  {
   "cell_type": "code",
   "execution_count": 10,
   "metadata": {},
   "outputs": [
    {
     "data": {
      "application/vnd.jupyter.widget-view+json": {
       "model_id": "ee39581dc5054d2a8d01e695eafc5011",
       "version_major": 2,
       "version_minor": 0
      },
      "text/plain": [
       "VBox()"
      ]
     },
     "metadata": {},
     "output_type": "display_data"
    },
    {
     "data": {
      "application/vnd.jupyter.widget-view+json": {
       "model_id": "",
       "version_major": 2,
       "version_minor": 0
      },
      "text/plain": [
       "FloatProgress(value=0.0, bar_style='info', description='Progress:', layout=Layout(height='25px', width='50%'),…"
      ]
     },
     "metadata": {},
     "output_type": "display_data"
    },
    {
     "name": "stdout",
     "output_type": "stream",
     "text": [
      "['(no genres listed)', 'Action', 'Adventure', 'Animation', 'Children', 'Comedy', 'Crime', 'Documentary', 'Drama', 'Fantasy', 'Film-Noir', 'Horror', 'IMAX', 'Musical', 'Mystery', 'Romance', 'Sci-Fi', 'Thriller', 'War', 'Western']"
     ]
    }
   ],
   "source": [
    "genres = [genre for genre in columns if genre not in [\"ID\", \"Title\", \"Year\", \"UserID\", \"Rate\", \"Timestamp\"]]\n",
    "genres"
   ]
  },
  {
   "cell_type": "code",
   "execution_count": 11,
   "metadata": {},
   "outputs": [
    {
     "data": {
      "application/vnd.jupyter.widget-view+json": {
       "model_id": "a797608f74fe44be94118437ad3a4b2a",
       "version_major": 2,
       "version_minor": 0
      },
      "text/plain": [
       "VBox()"
      ]
     },
     "metadata": {},
     "output_type": "display_data"
    },
    {
     "data": {
      "application/vnd.jupyter.widget-view+json": {
       "model_id": "",
       "version_major": 2,
       "version_minor": 0
      },
      "text/plain": [
       "FloatProgress(value=0.0, bar_style='info', description='Progress:', layout=Layout(height='25px', width='50%'),…"
      ]
     },
     "metadata": {},
     "output_type": "display_data"
    }
   ],
   "source": [
    "moviesAndRates_DF1 = moviesAndRates_DF.drop(\"UserID\", \"Rate\", \"Timestamp\").drop_duplicates() \\\n",
    "    .withColumnRenamed(\"(no genres listed)\", \"No_Genre\") \\\n",
    "    .withColumnRenamed(\"Film-Noir\", \"Film_Noir\") \\\n",
    "    .withColumnRenamed(\"Sci-Fi\", \"SciFi\") \\\n",
    "\n",
    "moviesAndRates_DF1.createOrReplaceTempView(\"moviesAndRates1\")"
   ]
  },
  {
   "cell_type": "code",
   "execution_count": 12,
   "metadata": {},
   "outputs": [
    {
     "data": {
      "application/vnd.jupyter.widget-view+json": {
       "model_id": "ff5c403eb7ee43108c9021d02ccb78a6",
       "version_major": 2,
       "version_minor": 0
      },
      "text/plain": [
       "VBox()"
      ]
     },
     "metadata": {},
     "output_type": "display_data"
    },
    {
     "data": {
      "application/vnd.jupyter.widget-view+json": {
       "model_id": "",
       "version_major": 2,
       "version_minor": 0
      },
      "text/plain": [
       "FloatProgress(value=0.0, bar_style='info', description='Progress:', layout=Layout(height='25px', width='50%'),…"
      ]
     },
     "metadata": {},
     "output_type": "display_data"
    },
    {
     "name": "stdout",
     "output_type": "stream",
     "text": [
      "-RECORD 0-----------\n",
      " No_Genre    | 1    \n",
      " Action      | 1438 \n",
      " Adventure   | 999  \n",
      " Animation   | 281  \n",
      " Children    | 507  \n",
      " Comedy      | 3609 \n",
      " Crime       | 1087 \n",
      " Documentary | 470  \n",
      " Drama       | 5204 \n",
      " Fantasy     | 530  \n",
      " Film_Noir   | 144  \n",
      " Horror      | 981  \n",
      " IMAX        | 28   \n",
      " Musical     | 429  \n",
      " Mystery     | 494  \n",
      " Romance     | 1645 \n",
      " SciFi       | 732  \n",
      " Thriller    | 1668 \n",
      " War         | 499  \n",
      " Western     | 272"
     ]
    }
   ],
   "source": [
    "spark.sql(\"select sum(No_Genre) No_Genre, sum(Action) Action, sum(Adventure) Adventure, sum(Animation) Animation, sum(Children) Children, sum(Comedy) Comedy, sum(Crime) Crime, sum(Documentary) Documentary, sum(Drama) Drama, sum(Fantasy) Fantasy, sum(Film_Noir) Film_Noir, sum(Horror) Horror, sum(IMAX) IMAX, sum(Musical) Musical, sum(Mystery) Mystery, sum(Romance) Romance, sum(SciFi) SciFi, sum(Thriller) Thriller, sum(War) War, sum(Western) Western \"\n",
    "          \"from moviesAndRates1\").show(len(genres), vertical = True, truncate = False)"
   ]
  },
  {
   "cell_type": "markdown",
   "metadata": {},
   "source": [
    "### Number of movies for each year"
   ]
  },
  {
   "cell_type": "code",
   "execution_count": 13,
   "metadata": {},
   "outputs": [
    {
     "data": {
      "application/vnd.jupyter.widget-view+json": {
       "model_id": "79d8d62a6c8947be9fec568ee233f7f2",
       "version_major": 2,
       "version_minor": 0
      },
      "text/plain": [
       "VBox()"
      ]
     },
     "metadata": {},
     "output_type": "display_data"
    },
    {
     "data": {
      "application/vnd.jupyter.widget-view+json": {
       "model_id": "",
       "version_major": 2,
       "version_minor": 0
      },
      "text/plain": [
       "FloatProgress(value=0.0, bar_style='info', description='Progress:', layout=Layout(height='25px', width='50%'),…"
      ]
     },
     "metadata": {},
     "output_type": "display_data"
    },
    {
     "name": "stdout",
     "output_type": "stream",
     "text": [
      "+----+\n",
      "|Year|\n",
      "+----+\n",
      "|2003|\n",
      "|1955|\n",
      "|1978|\n",
      "|1925|\n",
      "|1944|\n",
      "+----+\n",
      "only showing top 5 rows"
     ]
    }
   ],
   "source": [
    "years = moviesAndRates_DF1.select(\"Year\").distinct()\n",
    "years.show(5)"
   ]
  },
  {
   "cell_type": "code",
   "execution_count": 14,
   "metadata": {},
   "outputs": [
    {
     "data": {
      "application/vnd.jupyter.widget-view+json": {
       "model_id": "14bf0bc3915d4249be6e4c4da46a79d9",
       "version_major": 2,
       "version_minor": 0
      },
      "text/plain": [
       "VBox()"
      ]
     },
     "metadata": {},
     "output_type": "display_data"
    },
    {
     "data": {
      "application/vnd.jupyter.widget-view+json": {
       "model_id": "",
       "version_major": 2,
       "version_minor": 0
      },
      "text/plain": [
       "FloatProgress(value=0.0, bar_style='info', description='Progress:', layout=Layout(height='25px', width='50%'),…"
      ]
     },
     "metadata": {},
     "output_type": "display_data"
    },
    {
     "name": "stdout",
     "output_type": "stream",
     "text": [
      "94"
     ]
    }
   ],
   "source": [
    "years_count = years.count()\n",
    "years_count"
   ]
  },
  {
   "cell_type": "code",
   "execution_count": 15,
   "metadata": {
    "scrolled": true
   },
   "outputs": [
    {
     "data": {
      "application/vnd.jupyter.widget-view+json": {
       "model_id": "7b82aecafc3f49b5ac55431fe4fc07f0",
       "version_major": 2,
       "version_minor": 0
      },
      "text/plain": [
       "VBox()"
      ]
     },
     "metadata": {},
     "output_type": "display_data"
    },
    {
     "data": {
      "application/vnd.jupyter.widget-view+json": {
       "model_id": "",
       "version_major": 2,
       "version_minor": 0
      },
      "text/plain": [
       "FloatProgress(value=0.0, bar_style='info', description='Progress:', layout=Layout(height='25px', width='50%'),…"
      ]
     },
     "metadata": {},
     "output_type": "display_data"
    },
    {
     "name": "stdout",
     "output_type": "stream",
     "text": [
      "+----+------+\n",
      "|Year|Movies|\n",
      "+----+------+\n",
      "|1915|     1|\n",
      "|1916|     2|\n",
      "|1917|     2|\n",
      "|1918|     2|\n",
      "|1919|     4|\n",
      "|1920|     5|\n",
      "|1921|     3|\n",
      "|1922|     7|\n",
      "|1923|     6|\n",
      "|1924|     6|\n",
      "|1925|    10|\n",
      "|1926|    10|\n",
      "|1927|    19|\n",
      "|1928|    10|\n",
      "|1929|     7|\n",
      "|1930|    15|\n",
      "|1931|    13|\n",
      "|1932|    20|\n",
      "|1933|    23|\n",
      "|1934|    16|\n",
      "|1935|    18|\n",
      "|1936|    30|\n",
      "|1937|    29|\n",
      "|1938|    19|\n",
      "|1939|    37|\n",
      "|1940|    37|\n",
      "|1941|    27|\n",
      "|1942|    37|\n",
      "|1943|    40|\n",
      "|1944|    36|\n",
      "|1945|    35|\n",
      "|1946|    37|\n",
      "|1947|    38|\n",
      "|1948|    44|\n",
      "|1949|    37|\n",
      "|1950|    44|\n",
      "|1951|    44|\n",
      "|1952|    40|\n",
      "|1953|    52|\n",
      "|1954|    43|\n",
      "|1955|    56|\n",
      "|1956|    52|\n",
      "|1957|    61|\n",
      "|1958|    61|\n",
      "|1959|    61|\n",
      "|1960|    64|\n",
      "|1961|    55|\n",
      "|1962|    68|\n",
      "|1963|    62|\n",
      "|1964|    68|\n",
      "|1965|    72|\n",
      "|1966|    87|\n",
      "|1967|    67|\n",
      "|1968|    70|\n",
      "|1969|    62|\n",
      "|1970|    66|\n",
      "|1971|    72|\n",
      "|1972|    79|\n",
      "|1973|    77|\n",
      "|1974|    73|\n",
      "|1975|    71|\n",
      "|1976|    74|\n",
      "|1977|    81|\n",
      "|1978|    81|\n",
      "|1979|    86|\n",
      "|1980|   160|\n",
      "|1981|   173|\n",
      "|1982|   166|\n",
      "|1983|   107|\n",
      "|1984|   134|\n",
      "|1985|   157|\n",
      "|1986|   163|\n",
      "|1987|   199|\n",
      "|1988|   210|\n",
      "|1989|   200|\n",
      "|1990|   197|\n",
      "|1991|   183|\n",
      "|1992|   207|\n",
      "|1993|   249|\n",
      "|1994|   292|\n",
      "|1995|   342|\n",
      "|1996|   363|\n",
      "|1997|   358|\n",
      "|1998|   374|\n",
      "|1999|   350|\n",
      "|2000|   398|\n",
      "|2001|   395|\n",
      "|2002|   437|\n",
      "|2003|   358|\n",
      "|2004|   333|\n",
      "|2005|   326|\n",
      "|2006|   337|\n",
      "|2007|   356|\n",
      "|2008|   249|\n",
      "+----+------+"
     ]
    }
   ],
   "source": [
    "spark.sql(\"select Year, count(ID) Movies from moviesAndRates1 group by Year order by Year asc\").show(years_count)"
   ]
  },
  {
   "cell_type": "markdown",
   "metadata": {},
   "source": [
    "Just for a comparision, I'll do the same with Python code."
   ]
  },
  {
   "cell_type": "code",
   "execution_count": 16,
   "metadata": {
    "scrolled": true
   },
   "outputs": [
    {
     "data": {
      "application/vnd.jupyter.widget-view+json": {
       "model_id": "60ca1ee936594430aab58bb707511f1f",
       "version_major": 2,
       "version_minor": 0
      },
      "text/plain": [
       "VBox()"
      ]
     },
     "metadata": {},
     "output_type": "display_data"
    },
    {
     "data": {
      "application/vnd.jupyter.widget-view+json": {
       "model_id": "",
       "version_major": 2,
       "version_minor": 0
      },
      "text/plain": [
       "FloatProgress(value=0.0, bar_style='info', description='Progress:', layout=Layout(height='25px', width='50%'),…"
      ]
     },
     "metadata": {},
     "output_type": "display_data"
    },
    {
     "name": "stdout",
     "output_type": "stream",
     "text": [
      "+----+-----+\n",
      "|Year|count|\n",
      "+----+-----+\n",
      "|1915|  120|\n",
      "|1916|  405|\n",
      "|1917|  192|\n",
      "|1918|   95|\n",
      "|1919|  916|\n",
      "|1920|  432|\n",
      "|1921|  139|\n",
      "|1922|  338|\n",
      "|1923|  343|\n",
      "|1924| 1271|\n",
      "|1925| 1187|\n",
      "|1926| 1669|\n",
      "|1927| 5337|\n",
      "|1928| 1090|\n",
      "|1929|  683|\n",
      "|1930| 4949|\n",
      "|1931|  777|\n",
      "|1932| 2855|\n",
      "|1933| 4154|\n",
      "|1934| 3071|\n",
      "|1935| 1796|\n",
      "|1936| 3436|\n",
      "|1937| 3298|\n",
      "|1938| 2562|\n",
      "|1939| 4466|\n",
      "|1940| 6106|\n",
      "|1941| 2341|\n",
      "|1942| 7262|\n",
      "|1943| 5816|\n",
      "|1944| 3028|\n",
      "|1945| 6084|\n",
      "|1946| 3973|\n",
      "|1947| 5689|\n",
      "|1948| 5941|\n",
      "|1949| 5084|\n",
      "|1950| 5389|\n",
      "|1951| 6216|\n",
      "|1952| 4683|\n",
      "|1953| 4689|\n",
      "|1954| 7914|\n",
      "|1955| 6674|\n",
      "|1956| 6612|\n",
      "|1957| 7430|\n",
      "|1958| 8981|\n",
      "|1959| 9954|\n",
      "|1960| 8007|\n",
      "|1961| 9405|\n",
      "|1962|10016|\n",
      "|1963| 8350|\n",
      "|1964| 9883|\n",
      "|1965|11323|\n",
      "|1966|12966|\n",
      "|1967| 9021|\n",
      "|1968| 7779|\n",
      "|1969| 8512|\n",
      "|1970| 8017|\n",
      "|1971| 9782|\n",
      "|1972|14517|\n",
      "|1973|10188|\n",
      "|1974| 8618|\n",
      "|1975| 7733|\n",
      "|1976| 7392|\n",
      "|1977|11960|\n",
      "|1978| 9694|\n",
      "|1979|11543|\n",
      "|1980|20911|\n",
      "|1981|25920|\n",
      "|1982|21420|\n",
      "|1983|16176|\n",
      "|1984|20362|\n",
      "|1985|19044|\n",
      "|1986|17578|\n",
      "|1987|27054|\n",
      "|1988|31314|\n",
      "|1989|27720|\n",
      "|1990|30690|\n",
      "|1991|25729|\n",
      "|1992|31427|\n",
      "|1993|37293|\n",
      "|1994|39869|\n",
      "|1995|47089|\n",
      "|1996|49249|\n",
      "|1997|51584|\n",
      "|1998|54163|\n",
      "|1999|47784|\n",
      "|2000|53805|\n",
      "|2001|55275|\n",
      "|2002|58466|\n",
      "|2003|49654|\n",
      "|2004|53813|\n",
      "|2005|52850|\n",
      "|2006|45753|\n",
      "|2007|54833|\n",
      "|2008|35331|\n",
      "+----+-----+"
     ]
    }
   ],
   "source": [
    "moviesAndRates_DF.groupBy(\"Year\").count().orderBy(\"Year\", ascending = True).show(years_count)"
   ]
  },
  {
   "cell_type": "markdown",
   "metadata": {},
   "source": [
    "As you can see above, execution time for SQL was around 7 second and Python arount 4 seconds."
   ]
  }
 ],
 "metadata": {
  "kernelspec": {
   "display_name": "PySpark",
   "language": "",
   "name": "pysparkkernel"
  },
  "language_info": {
   "codemirror_mode": {
    "name": "python",
    "version": 2
   },
   "mimetype": "text/x-python",
   "name": "pyspark",
   "pygments_lexer": "python2"
  }
 },
 "nbformat": 4,
 "nbformat_minor": 4
}
